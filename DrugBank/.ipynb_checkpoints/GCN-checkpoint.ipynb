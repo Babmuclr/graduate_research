{
 "cells": [
  {
   "cell_type": "markdown",
   "metadata": {},
   "source": [
    "# 溶解度予測\n",
    "## ECFP、ニューラルネットワーク"
   ]
  },
  {
   "cell_type": "code",
   "execution_count": 231,
   "metadata": {},
   "outputs": [],
   "source": [
    "import pandas as pd\n",
    "import numpy as np\n",
    "\n",
    "from rdkit import Chem\n",
    "from rdkit.Chem import AllChem, Draw"
   ]
  },
  {
   "cell_type": "code",
   "execution_count": 232,
   "metadata": {},
   "outputs": [],
   "source": [
    "import matplotlib.pyplot as plt"
   ]
  },
  {
   "cell_type": "code",
   "execution_count": 233,
   "metadata": {},
   "outputs": [],
   "source": [
    "import torch\n",
    "import torch.utils.data\n",
    "from torchvision import datasets\n",
    "import torch.nn as nn\n",
    "import torch.nn.functional as F\n",
    "import torch.optim as optim  # 最適化アルゴリズム実装のためのライブラリ"
   ]
  },
  {
   "cell_type": "code",
   "execution_count": 234,
   "metadata": {},
   "outputs": [],
   "source": [
    "df = pd.read_csv(\"delaney-processed.csv\")"
   ]
  },
  {
   "cell_type": "code",
   "execution_count": 263,
   "metadata": {
    "scrolled": true
   },
   "outputs": [],
   "source": [
    "def f(smiles):\n",
    "    mol = Chem.MolFromSmiles(smiles)\n",
    "    bit_morgan = {}\n",
    "    fp = AllChem.GetMorganFingerprintAsBitVect(mol, radius=2, nBits=1024, bitInfo=bit_morgan)\n",
    "    return list(fp)"
   ]
  },
  {
   "cell_type": "code",
   "execution_count": 287,
   "metadata": {},
   "outputs": [],
   "source": [
    "df[\"smile\"] = df[\"smiles\"].map(f)\n",
    "df.rename(columns={\"ESOL predicted log solubility in mols per litre\": 'target'},inplace=True)\n",
    "df[\"target\"] = - df[\"target\"]"
   ]
  },
  {
   "cell_type": "code",
   "execution_count": 288,
   "metadata": {},
   "outputs": [
    {
     "data": {
      "text/html": [
       "<div>\n",
       "<style scoped>\n",
       "    .dataframe tbody tr th:only-of-type {\n",
       "        vertical-align: middle;\n",
       "    }\n",
       "\n",
       "    .dataframe tbody tr th {\n",
       "        vertical-align: top;\n",
       "    }\n",
       "\n",
       "    .dataframe thead th {\n",
       "        text-align: right;\n",
       "    }\n",
       "</style>\n",
       "<table border=\"1\" class=\"dataframe\">\n",
       "  <thead>\n",
       "    <tr style=\"text-align: right;\">\n",
       "      <th></th>\n",
       "      <th>target</th>\n",
       "      <th>smile</th>\n",
       "    </tr>\n",
       "  </thead>\n",
       "  <tbody>\n",
       "    <tr>\n",
       "      <th>1123</th>\n",
       "      <td>2.608</td>\n",
       "      <td>[0, 1, 0, 0, 0, 0, 0, 0, 0, 0, 0, 0, 0, 0, 0, ...</td>\n",
       "    </tr>\n",
       "    <tr>\n",
       "      <th>1124</th>\n",
       "      <td>0.908</td>\n",
       "      <td>[0, 0, 0, 0, 0, 0, 0, 0, 0, 0, 1, 0, 0, 0, 0, ...</td>\n",
       "    </tr>\n",
       "    <tr>\n",
       "      <th>1125</th>\n",
       "      <td>3.323</td>\n",
       "      <td>[0, 0, 0, 0, 0, 0, 0, 0, 0, 0, 0, 0, 0, 0, 0, ...</td>\n",
       "    </tr>\n",
       "    <tr>\n",
       "      <th>1126</th>\n",
       "      <td>2.245</td>\n",
       "      <td>[0, 1, 0, 0, 0, 0, 0, 0, 0, 0, 0, 0, 0, 0, 0, ...</td>\n",
       "    </tr>\n",
       "    <tr>\n",
       "      <th>1127</th>\n",
       "      <td>4.320</td>\n",
       "      <td>[0, 0, 0, 0, 0, 0, 0, 0, 0, 0, 0, 0, 0, 0, 0, ...</td>\n",
       "    </tr>\n",
       "  </tbody>\n",
       "</table>\n",
       "</div>"
      ],
      "text/plain": [
       "      target                                              smile\n",
       "1123   2.608  [0, 1, 0, 0, 0, 0, 0, 0, 0, 0, 0, 0, 0, 0, 0, ...\n",
       "1124   0.908  [0, 0, 0, 0, 0, 0, 0, 0, 0, 0, 1, 0, 0, 0, 0, ...\n",
       "1125   3.323  [0, 0, 0, 0, 0, 0, 0, 0, 0, 0, 0, 0, 0, 0, 0, ...\n",
       "1126   2.245  [0, 1, 0, 0, 0, 0, 0, 0, 0, 0, 0, 0, 0, 0, 0, ...\n",
       "1127   4.320  [0, 0, 0, 0, 0, 0, 0, 0, 0, 0, 0, 0, 0, 0, 0, ..."
      ]
     },
     "execution_count": 288,
     "metadata": {},
     "output_type": "execute_result"
    }
   ],
   "source": [
    "df1 = df[['target','smile']]\n",
    "df1.tail()"
   ]
  },
  {
   "cell_type": "code",
   "execution_count": 289,
   "metadata": {},
   "outputs": [],
   "source": [
    "from sklearn.model_selection import train_test_split\n",
    "from sklearn.neural_network import MLPRegressor\n",
    "from sklearn.metrics import mean_squared_error\n",
    "\n",
    "X = df1[\"smile\"].values.tolist()\n",
    "y = df1[\"target\"].values.tolist()\n",
    "clf = MLPRegressor(hidden_layer_sizes = (128,128), solver = \"sgd\")"
   ]
  },
  {
   "cell_type": "code",
   "execution_count": 290,
   "metadata": {},
   "outputs": [
    {
     "data": {
      "text/plain": [
       "2.988192375886524"
      ]
     },
     "execution_count": 290,
     "metadata": {},
     "output_type": "execute_result"
    }
   ],
   "source": [
    "x = sum(y)/len(y)\n",
    "x"
   ]
  },
  {
   "cell_type": "code",
   "execution_count": 291,
   "metadata": {},
   "outputs": [
    {
     "name": "stdout",
     "output_type": "stream",
     "text": [
      "0.8595399171893773\n"
     ]
    },
    {
     "name": "stderr",
     "output_type": "stream",
     "text": [
      "C:\\Users\\Takumi Inui\\Anaconda\\lib\\site-packages\\sklearn\\neural_network\\multilayer_perceptron.py:566: ConvergenceWarning: Stochastic Optimizer: Maximum iterations (200) reached and the optimization hasn't converged yet.\n",
      "  % self.max_iter, ConvergenceWarning)\n"
     ]
    }
   ],
   "source": [
    "X_train, X_test, y_train, y_test = train_test_split(X, y, test_size=0.3, random_state=0)\n",
    "clf.fit(X_train, y_train)\n",
    "correct = y_test\n",
    "predict = clf.predict(X_test)\n",
    "ans = np.sqrt(mean_squared_error(y_test, predict))\n",
    "print(ans)"
   ]
  },
  {
   "cell_type": "code",
   "execution_count": 292,
   "metadata": {},
   "outputs": [
    {
     "data": {
      "image/png": "[encoded data removed]",
      "text/plain": [
       "<Figure size 432x288 with 1 Axes>"
      ]
     },
     "metadata": {
      "needs_background": "light"
     },
     "output_type": "display_data"
    }
   ],
   "source": [
    "plt.plot(correct, predict, \"bo\", label=\"test\")\n",
    "plt.plot(y_train, y_train, \"k\",label=\"train\")\n",
    "plt.legend()\n",
    "plt.show()"
   ]
  },
  {
   "cell_type": "code",
   "execution_count": 293,
   "metadata": {},
   "outputs": [],
   "source": [
    "class Net(nn.Module):  # 多層ニューラルネットワークの構築\n",
    "    def __init__(self):\n",
    "        super(Net, self).__init__()\n",
    "        self.fc1 = nn.Linear(1024, 128)  # 一つ目の隠れ層のユニット数は512\n",
    "        self.fc2 = nn.Linear(128, 128)  # 二つ目の隠れ層のユニット数は128\n",
    "        self.fc3 = nn.Linear(128, 1)  # 出力層のユニット数は10\n",
    "\n",
    "\n",
    "    def forward(self, x):\n",
    "        x = F.relu(self.fc1(x))  # 活性化関数にはReLUを使用\n",
    "        x = F.relu(self.fc2(x))  # 活性化関数にはReLUを使用\n",
    "        x = self.fc3(x)\n",
    "        return x\n",
    "\n",
    "net = Net()"
   ]
  },
  {
   "cell_type": "code",
   "execution_count": 294,
   "metadata": {},
   "outputs": [],
   "source": [
    "train_label = torch.tensor(df1[\"target\"]).float()\n",
    "train_data = torch.tensor(df1[\"smile\"]).float()"
   ]
  },
  {
   "cell_type": "code",
   "execution_count": 295,
   "metadata": {},
   "outputs": [],
   "source": [
    "train_tensor = torch.utils.data.TensorDataset(train_data,train_label)\n",
    "train_dataset, test_dataset = torch.utils.data.random_split(train_tensor, [1000, 128])"
   ]
  },
  {
   "cell_type": "code",
   "execution_count": 296,
   "metadata": {},
   "outputs": [],
   "source": [
    "train_loader = torch.utils.data.DataLoader(train_dataset, batch_size=16, shuffle=True)\n",
    "test_loader = torch.utils.data.DataLoader(test_dataset, batch_size=16, shuffle=True)"
   ]
  },
  {
   "cell_type": "code",
   "execution_count": 297,
   "metadata": {},
   "outputs": [],
   "source": [
    "criterion = nn.MSELoss()  # 学習の際、目的関数として最小二乗誤差を使用\n",
    "# optimizer = optim.RMSprop(net.parameters, lr=0.01, alpha=0.99, eps=1e-08, weight_decay=0, momentum=0, centered=False)\n",
    "optimizer = optim.SGD(net.parameters(), lr=0.001, momentum=0.9)\n",
    "#optimizer = optim.Adam(net.parameters(), lr=1e-4, weight_decay=1e-5)"
   ]
  },
  {
   "cell_type": "code",
   "execution_count": 298,
   "metadata": {},
   "outputs": [],
   "source": [
    "lambda1, lambda2 = 0.5, 0.0001"
   ]
  },
  {
   "cell_type": "code",
   "execution_count": 313,
   "metadata": {},
   "outputs": [
    {
     "name": "stdout",
     "output_type": "stream",
     "text": [
      "178.4897329211235\n",
      "179.78384697437286\n",
      "178.47129678726196\n",
      "177.58867448568344\n",
      "177.64925384521484\n",
      "179.3013545870781\n",
      "177.85773730278015\n",
      "179.3939344882965\n",
      "178.04251277446747\n",
      "179.08185529708862\n",
      "179.80820405483246\n",
      "178.33764678239822\n",
      "179.2304590344429\n",
      "178.50993847846985\n",
      "178.58819544315338\n",
      "178.04688972234726\n",
      "177.77944368124008\n",
      "178.01834917068481\n",
      "179.07921183109283\n",
      "177.83408910036087\n",
      "\n",
      "学習が終了しました。\n"
     ]
    }
   ],
   "source": [
    "for epoch in range(20):  # エポック数を2に設定\n",
    "    total_loss = 0.0\n",
    "    for i, data in enumerate(train_loader):\n",
    "        inputs, labels = data  # ミニバッチの学習データを取得\n",
    "        optimizer.zero_grad()  # 勾配の初期化\n",
    "        # 誤差逆伝播によりネットワークのパラメータの値を更新\n",
    "        outputs = net(inputs)\n",
    "        loss = criterion(labels, outputs)\n",
    "#        all_linear1_params = torch.cat([x.view(-1) for x in net.parameters()])\n",
    "#        all_linear2_params = torch.cat([x.view(-1) for x in net.parameters()])\n",
    "#        l1_regularization = lambda1 * torch.norm(all_linear1_params, 1)\n",
    "#        l2_regularization = lambda2 * torch.norm(all_linear2_params, 2)\n",
    "#        loss = criterion(labels, outputs) + l2_regularization\n",
    "        loss.backward()\n",
    "        optimizer.step()\n",
    "        total_loss += loss.item()\n",
    "    print(total_loss)\n",
    "print('\\n学習が終了しました。')"
   ]
  },
  {
   "cell_type": "code",
   "execution_count": 308,
   "metadata": {},
   "outputs": [],
   "source": [
    "correct = []  # 正答数を表す\n",
    "predict = []  # テストデータの総数を表す\n",
    "for data in test_loader:\n",
    "    inputs, labels = data\n",
    "    outputs = net(inputs)\n",
    "    predicted = outputs.data.tolist()\n",
    "    correct.append(labels.tolist())\n",
    "    predict.append(predicted)"
   ]
  },
  {
   "cell_type": "code",
   "execution_count": 310,
   "metadata": {},
   "outputs": [
    {
     "data": {
      "text/plain": [
       "[3.09926700592041,\n",
       " 3.1259846687316895,\n",
       " 2.858236312866211,\n",
       " 2.83148193359375,\n",
       " 2.8746938705444336,\n",
       " 2.9795446395874023,\n",
       " 2.9682083129882812,\n",
       " 2.9312925338745117,\n",
       " 2.937343120574951,\n",
       " 3.072477340698242,\n",
       " 2.928107738494873,\n",
       " 3.0293688774108887,\n",
       " 3.0728445053100586,\n",
       " 3.1263046264648438,\n",
       " 2.8925251960754395,\n",
       " 2.9961113929748535,\n",
       " 2.899491786956787,\n",
       " 2.9132025241851807,\n",
       " 2.99813175201416,\n",
       " 2.7612528800964355,\n",
       " 3.0211453437805176,\n",
       " 2.9057822227478027,\n",
       " 3.1366028785705566,\n",
       " 2.9880528450012207,\n",
       " 2.9114603996276855,\n",
       " 2.9253604412078857,\n",
       " 2.993124008178711,\n",
       " 3.12913179397583,\n",
       " 2.977753162384033,\n",
       " 2.9190773963928223,\n",
       " 3.0384325981140137,\n",
       " 3.024238109588623,\n",
       " 2.9386212825775146,\n",
       " 3.036388397216797,\n",
       " 2.921888589859009,\n",
       " 2.8670873641967773,\n",
       " 2.903721332550049,\n",
       " 2.801588535308838,\n",
       " 2.8635940551757812,\n",
       " 2.9929332733154297,\n",
       " 3.0005955696105957,\n",
       " 3.0424065589904785,\n",
       " 2.9515113830566406,\n",
       " 2.9451937675476074,\n",
       " 3.072972297668457,\n",
       " 3.108419895172119,\n",
       " 2.974519729614258,\n",
       " 3.0268049240112305,\n",
       " 3.0324740409851074,\n",
       " 3.1100616455078125,\n",
       " 3.0038325786590576,\n",
       " 2.892880439758301,\n",
       " 2.9821243286132812,\n",
       " 2.903716802597046,\n",
       " 2.979013442993164,\n",
       " 3.0965843200683594,\n",
       " 2.929415225982666,\n",
       " 3.016982078552246,\n",
       " 3.124213218688965,\n",
       " 3.130392551422119,\n",
       " 2.98496675491333,\n",
       " 2.943397045135498,\n",
       " 2.82150936126709,\n",
       " 2.8725104331970215,\n",
       " 2.938044786453247,\n",
       " 3.1643033027648926,\n",
       " 3.005610466003418,\n",
       " 3.0757436752319336,\n",
       " 3.0211453437805176,\n",
       " 2.859335422515869,\n",
       " 2.9838147163391113,\n",
       " 2.944789409637451,\n",
       " 2.9629194736480713,\n",
       " 2.9489946365356445,\n",
       " 2.9847512245178223,\n",
       " 2.97908616065979,\n",
       " 2.9398813247680664,\n",
       " 3.091109275817871,\n",
       " 3.051819324493408,\n",
       " 2.864457607269287,\n",
       " 3.0186715126037598,\n",
       " 2.8868870735168457,\n",
       " 2.89663028717041,\n",
       " 2.976480484008789,\n",
       " 3.263099193572998,\n",
       " 2.946260929107666,\n",
       " 2.9632325172424316,\n",
       " 2.9131617546081543,\n",
       " 3.1432785987854004,\n",
       " 2.978914499282837,\n",
       " 2.9409072399139404,\n",
       " 3.141261100769043,\n",
       " 2.9331307411193848,\n",
       " 3.0212152004241943,\n",
       " 2.953737258911133,\n",
       " 3.056400775909424,\n",
       " 2.923178195953369,\n",
       " 3.0445055961608887,\n",
       " 2.930694580078125,\n",
       " 2.9957456588745117,\n",
       " 3.055452346801758,\n",
       " 2.963853359222412,\n",
       " 3.0147457122802734,\n",
       " 2.877077579498291,\n",
       " 3.033590793609619,\n",
       " 2.970785140991211,\n",
       " 3.118251323699951,\n",
       " 3.1328277587890625,\n",
       " 2.9635062217712402,\n",
       " 2.972090721130371,\n",
       " 2.879709005355835,\n",
       " 2.9199376106262207,\n",
       " 3.025886058807373,\n",
       " 2.9607431888580322,\n",
       " 3.1781229972839355,\n",
       " 2.99176025390625,\n",
       " 3.1369709968566895,\n",
       " 3.0785069465637207,\n",
       " 2.911336898803711,\n",
       " 2.9389240741729736,\n",
       " 2.975883960723877,\n",
       " 3.0544228553771973,\n",
       " 2.870865821838379,\n",
       " 2.813262462615967,\n",
       " 3.0192930698394775,\n",
       " 3.050776481628418,\n",
       " 2.947934627532959,\n",
       " 2.8422586917877197]"
      ]
     },
     "execution_count": 310,
     "metadata": {},
     "output_type": "execute_result"
    }
   ],
   "source": [
    "import itertools\n",
    "\n",
    "predict = list(itertools.chain.from_iterable(predict))\n",
    "predict"
   ]
  },
  {
   "cell_type": "code",
   "execution_count": 311,
   "metadata": {},
   "outputs": [
    {
     "data": {
      "text/plain": [
       "[5.604000091552734,\n",
       " 6.230000019073486,\n",
       " 0.8840000033378601,\n",
       " 0.10599999874830246,\n",
       " 0.9779999852180481,\n",
       " 2.066999912261963,\n",
       " 1.5889999866485596,\n",
       " 2.444000005722046,\n",
       " 3.125,\n",
       " 3.003000020980835,\n",
       " 1.3079999685287476,\n",
       " 3.8459999561309814,\n",
       " 7.1479997634887695,\n",
       " 3.927999973297119,\n",
       " 2.2839999198913574,\n",
       " 4.228000164031982,\n",
       " 1.2610000371932983,\n",
       " 2.937999963760376,\n",
       " 2.2780001163482666,\n",
       " -0.8320000171661377,\n",
       " 3.677999973297119,\n",
       " 1.190999984741211,\n",
       " 6.545000076293945,\n",
       " 4.940000057220459,\n",
       " 3.611999988555908,\n",
       " 2.3289999961853027,\n",
       " 4.34499979019165,\n",
       " 4.099999904632568,\n",
       " 2.867000102996826,\n",
       " 2.065999984741211,\n",
       " 2.509000062942505,\n",
       " 4.367000102996826,\n",
       " 0.824999988079071,\n",
       " 4.050000190734863,\n",
       " 1.5290000438690186,\n",
       " 1.4520000219345093,\n",
       " 1.9479999542236328,\n",
       " 0.6359999775886536,\n",
       " 1.6030000448226929,\n",
       " 3.7790000438690186,\n",
       " 3.693000078201294,\n",
       " 4.376999855041504,\n",
       " 4.775000095367432,\n",
       " 1.906999945640564,\n",
       " 7.117000102996826,\n",
       " 4.063000202178955,\n",
       " 4.025000095367432,\n",
       " 2.760999917984009,\n",
       " 2.364000082015991,\n",
       " 5.247000217437744,\n",
       " 3.4110000133514404,\n",
       " 2.9040000438690186,\n",
       " 2.244999885559082,\n",
       " 2.4649999141693115,\n",
       " 2.2100000381469727,\n",
       " 4.438000202178955,\n",
       " -0.47099998593330383,\n",
       " 0.9739999771118164,\n",
       " 5.142000198364258,\n",
       " 5.039999961853027,\n",
       " 3.8570001125335693,\n",
       " 1.5449999570846558,\n",
       " 0.6740000247955322,\n",
       " 1.9390000104904175,\n",
       " 1.6180000305175781,\n",
       " 6.078999996185303,\n",
       " 3.0869998931884766,\n",
       " 4.63700008392334,\n",
       " 5.449999809265137,\n",
       " 0.9110000133514404,\n",
       " 2.312999963760376,\n",
       " 1.4259999990463257,\n",
       " 3.505000114440918,\n",
       " 2.640000104904175,\n",
       " 5.269999980926514,\n",
       " 3.1649999618530273,\n",
       " 1.7200000286102295,\n",
       " 3.069000005722046,\n",
       " 4.51800012588501,\n",
       " 1.4129999876022339,\n",
       " 5.0980000495910645,\n",
       " 1.5449999570846558,\n",
       " 2.318000078201294,\n",
       " 1.0720000267028809,\n",
       " 8.057000160217285,\n",
       " 2.0759999752044678,\n",
       " 2.078000068664551,\n",
       " 2.0190000534057617,\n",
       " 4.203000068664551,\n",
       " 3.740999937057495,\n",
       " 1.4930000305175781,\n",
       " 6.007999897003174,\n",
       " 2.111999988555908,\n",
       " 4.125,\n",
       " 2.628999948501587,\n",
       " 3.9579999446868896,\n",
       " 2.318000078201294,\n",
       " 3.937999963760376,\n",
       " 1.8660000562667847,\n",
       " 3.7009999752044678,\n",
       " 3.4000000953674316,\n",
       " 2.321000099182129,\n",
       " 2.88700008392334,\n",
       " 1.5449999570846558,\n",
       " 3.4670000076293945,\n",
       " 2.059999942779541,\n",
       " 6.006999969482422,\n",
       " 5.76200008392334,\n",
       " 2.884999990463257,\n",
       " 4.3420000076293945,\n",
       " 2.1019999980926514,\n",
       " 2.7339999675750732,\n",
       " 3.569999933242798,\n",
       " 2.640000104904175,\n",
       " 6.895999908447266,\n",
       " 2.368000030517578,\n",
       " 4.203000068664551,\n",
       " 5.681000232696533,\n",
       " 2.7939999103546143,\n",
       " 2.5139999389648438,\n",
       " 4.118000030517578,\n",
       " 4.449999809265137,\n",
       " 2.4179999828338623,\n",
       " 3.0490000247955322,\n",
       " 4.364999771118164,\n",
       " 2.552999973297119,\n",
       " 3.73799991607666,\n",
       " 0.4620000123977661]"
      ]
     },
     "execution_count": 311,
     "metadata": {},
     "output_type": "execute_result"
    }
   ],
   "source": [
    "correct = list(itertools.chain.from_iterable(correct))\n",
    "correct"
   ]
  },
  {
   "cell_type": "code",
   "execution_count": 312,
   "metadata": {},
   "outputs": [
    {
     "data": {
      "image/png": "[encoded data removed]",
      "text/plain": [
       "<Figure size 432x288 with 1 Axes>"
      ]
     },
     "metadata": {
      "needs_background": "light"
     },
     "output_type": "display_data"
    }
   ],
   "source": [
    "plt.plot(correct, predict, \"bo\", label=\"test\")\n",
    "plt.plot(y_train, y_train, \"k\",label=\"train\")\n",
    "plt.legend()\n",
    "plt.show()"
   ]
  },
  {
   "cell_type": "code",
   "execution_count": 304,
   "metadata": {},
   "outputs": [
    {
     "name": "stdout",
     "output_type": "stream",
     "text": [
      "Parameter containing:\n",
      "tensor([[-0.0192, -0.0260, -0.0133,  ...,  0.0036, -0.0148,  0.0259],\n",
      "        [ 0.0184, -0.0039,  0.0159,  ..., -0.0079, -0.0243, -0.0298],\n",
      "        [-0.0040,  0.0190,  0.0111,  ..., -0.0242, -0.0022,  0.0304],\n",
      "        ...,\n",
      "        [ 0.0326, -0.0123,  0.0087,  ..., -0.0036,  0.0243, -0.0259],\n",
      "        [-0.0260,  0.0213,  0.0011,  ...,  0.0061,  0.0248, -0.0028],\n",
      "        [-0.0044,  0.0194,  0.0002,  ...,  0.0145, -0.0040,  0.0071]],\n",
      "       requires_grad=True)\n",
      "Parameter containing:\n",
      "tensor([ 0.0002, -0.0143,  0.0046,  0.0340, -0.0261,  0.0012,  0.0022, -0.0121,\n",
      "        -0.0112,  0.0083,  0.0019,  0.0110,  0.0164,  0.0568, -0.0189,  0.0472,\n",
      "        -0.0379,  0.0214, -0.0067,  0.0041,  0.0208, -0.0011,  0.0164,  0.0684,\n",
      "         0.0603,  0.0069,  0.0113,  0.0519,  0.0375,  0.0290, -0.0073,  0.0142,\n",
      "        -0.0218, -0.0147, -0.0382,  0.0172,  0.0321, -0.0245,  0.0112,  0.0163,\n",
      "         0.1187,  0.0027, -0.0150,  0.0088, -0.0291,  0.0322, -0.0194,  0.0476,\n",
      "        -0.0121, -0.0022, -0.0199,  0.0505, -0.0277,  0.0028, -0.0298,  0.0078,\n",
      "        -0.0269,  0.0276,  0.0196, -0.0016, -0.0049, -0.0244,  0.0314, -0.0233,\n",
      "         0.0381,  0.0417, -0.0070, -0.0084,  0.0312,  0.0012, -0.0178,  0.0031,\n",
      "        -0.0142, -0.0202, -0.0236,  0.0107, -0.0124, -0.0310, -0.0130,  0.0018,\n",
      "         0.0169, -0.0318,  0.0027,  0.0321,  0.0523, -0.0334,  0.0320, -0.0327,\n",
      "         0.0665,  0.0204, -0.0049,  0.0205, -0.0090, -0.0231,  0.0011, -0.0194,\n",
      "         0.0043, -0.0329,  0.0115, -0.0350,  0.0739,  0.0046, -0.0233, -0.0523,\n",
      "        -0.0001, -0.0190,  0.0402, -0.0007,  0.0154,  0.0061,  0.0013,  0.0467,\n",
      "        -0.0055, -0.0093, -0.0386,  0.0662,  0.0131,  0.0314, -0.0015, -0.0186,\n",
      "        -0.0164, -0.0049, -0.0064, -0.0190, -0.0072,  0.0674,  0.0594, -0.0028],\n",
      "       requires_grad=True)\n",
      "Parameter containing:\n",
      "tensor([[-0.0424, -0.0677, -0.0196,  ..., -0.0863, -0.0263, -0.0583],\n",
      "        [-0.0558,  0.0355, -0.0554,  ..., -0.0732,  0.0505, -0.0223],\n",
      "        [-0.0733,  0.0555, -0.0754,  ...,  0.0030, -0.0333,  0.0823],\n",
      "        ...,\n",
      "        [ 0.0294,  0.0136,  0.0275,  ...,  0.0723,  0.0708, -0.0315],\n",
      "        [ 0.0326, -0.0583,  0.0500,  ...,  0.0494,  0.0491,  0.0466],\n",
      "        [ 0.0908, -0.0624, -0.0425,  ...,  0.0595,  0.0583,  0.0329]],\n",
      "       requires_grad=True)\n",
      "Parameter containing:\n",
      "tensor([-1.8993e-02, -8.3065e-02, -8.3708e-02, -8.6328e-02, -5.8859e-02,\n",
      "        -7.8474e-02, -1.6035e-02, -3.6519e-02, -3.7691e-02, -4.2347e-02,\n",
      "         7.3963e-02,  4.2590e-02,  1.1777e-02,  3.1391e-02, -3.1052e-02,\n",
      "        -8.4029e-02, -2.6513e-02, -3.7156e-02, -4.3744e-02, -6.5651e-02,\n",
      "        -9.2397e-02,  7.8346e-02,  1.9207e-01,  7.4437e-02,  6.0812e-02,\n",
      "         1.9817e-01,  2.2042e-01, -3.4555e-02,  2.4210e-01, -5.1005e-02,\n",
      "         1.4446e-01,  9.8993e-02,  7.0292e-02, -7.3767e-02, -4.8722e-02,\n",
      "        -5.5661e-02, -3.1062e-02, -4.4543e-02, -6.2070e-02, -2.8436e-02,\n",
      "         9.3092e-02, -4.7200e-02,  1.3180e-01, -7.0641e-02, -4.3135e-02,\n",
      "        -3.3258e-02, -8.3827e-02,  2.2731e-01, -3.4087e-02,  1.0786e-01,\n",
      "         1.1558e-01,  1.8008e-01,  2.1394e-02, -6.7614e-02, -4.1711e-02,\n",
      "        -3.6207e-02, -6.6042e-02, -4.4290e-02,  8.3934e-02, -1.5661e-02,\n",
      "        -7.1531e-04,  2.3716e-02,  1.1689e-01,  1.3020e-02, -1.0800e-02,\n",
      "        -4.4042e-02,  2.5094e-01,  6.7428e-02, -3.0697e-02,  3.4613e-02,\n",
      "         3.0579e-02, -5.1236e-02, -1.2617e-02,  2.7886e-01,  2.0484e-01,\n",
      "        -1.6497e-02, -4.5681e-02,  2.9544e-03, -2.7290e-04,  1.4916e-01,\n",
      "        -7.8731e-02,  1.8652e-01,  5.3025e-02, -8.2536e-02, -7.6035e-02,\n",
      "        -8.5914e-02,  2.1900e-01, -6.6275e-02, -3.0353e-04,  1.7015e-01,\n",
      "        -2.5184e-02, -4.7018e-02,  3.1169e-02,  8.3104e-02,  1.4588e-01,\n",
      "        -8.7485e-02, -5.4051e-02,  1.5339e-01, -2.3311e-02,  1.4425e-01,\n",
      "        -8.3670e-02, -6.8213e-02, -1.3448e-02,  1.0837e-01,  1.4424e-01,\n",
      "         9.4990e-02,  7.6086e-02, -7.4320e-02, -2.0799e-02,  1.1816e-01,\n",
      "         2.2057e-01, -7.1279e-02, -6.7785e-02,  1.8956e-02, -6.8481e-02,\n",
      "         1.8557e-01,  6.7915e-02,  4.3595e-02,  1.0818e-02, -6.9916e-02,\n",
      "        -3.4595e-02,  1.3822e-01, -8.0753e-02,  4.4354e-02, -1.7977e-02,\n",
      "         1.3719e-01, -6.6571e-02,  2.6751e-01], requires_grad=True)\n",
      "Parameter containing:\n",
      "tensor([[ 0.0455,  0.0618,  0.0776,  0.0138, -0.0506,  0.0453,  0.0082,  0.0727,\n",
      "         -0.0839,  0.0096,  0.0886,  0.0585, -0.0196, -0.0030,  0.0205,  0.0315,\n",
      "         -0.0388, -0.0720, -0.0581,  0.0846,  0.0263,  0.1231,  0.1978,  0.0960,\n",
      "          0.0360,  0.2232,  0.2427, -0.0643,  0.2483, -0.0599,  0.1293,  0.0631,\n",
      "          0.0961, -0.0904, -0.0676,  0.0527, -0.0752,  0.0732, -0.0057, -0.0481,\n",
      "          0.0848, -0.0457,  0.1693, -0.0424, -0.0023, -0.0250,  0.0288,  0.2488,\n",
      "         -0.0226,  0.1264,  0.1236,  0.1700, -0.0056, -0.0553, -0.0787, -0.0524,\n",
      "          0.0540, -0.0054,  0.0962, -0.0282, -0.0153,  0.0554,  0.1216,  0.0654,\n",
      "         -0.0285,  0.0382,  0.2728,  0.0722, -0.0572,  0.0332, -0.0014,  0.0136,\n",
      "         -0.0537,  0.2957,  0.2121,  0.0194,  0.0165, -0.0452, -0.0220,  0.1403,\n",
      "          0.0471,  0.2042,  0.0936, -0.0781,  0.0761,  0.0407,  0.2114,  0.0087,\n",
      "         -0.0081,  0.1644, -0.0525, -0.0727,  0.0132,  0.0859,  0.1444, -0.0248,\n",
      "          0.0182,  0.1752, -0.0698,  0.1369, -0.0838,  0.0067,  0.0023,  0.1113,\n",
      "          0.1796,  0.1121,  0.0991,  0.0407, -0.0659,  0.1198,  0.2219, -0.0516,\n",
      "         -0.0529,  0.0610,  0.0046,  0.1888,  0.1017,  0.0161, -0.0321,  0.0700,\n",
      "         -0.0527,  0.1660,  0.0774,  0.0487, -0.0404,  0.1479,  0.0289,  0.2808]],\n",
      "       requires_grad=True)\n",
      "Parameter containing:\n",
      "tensor([1.5455], requires_grad=True)\n"
     ]
    }
   ],
   "source": [
    "for param in net.parameters():\n",
    "    print(param)"
   ]
  },
  {
   "cell_type": "code",
   "execution_count": null,
   "metadata": {},
   "outputs": [],
   "source": []
  },
  {
   "cell_type": "code",
   "execution_count": null,
   "metadata": {},
   "outputs": [],
   "source": []
  }
 ],
 "metadata": {
  "kernelspec": {
   "display_name": "Python 3",
   "language": "python",
   "name": "python3"
  },
  "language_info": {
   "codemirror_mode": {
    "name": "ipython",
    "version": 3
   },
   "file_extension": ".py",
   "mimetype": "text/x-python",
   "name": "python",
   "nbconvert_exporter": "python",
   "pygments_lexer": "ipython3",
   "version": "3.7.3"
  }
 },
 "nbformat": 4,
 "nbformat_minor": 2
}
