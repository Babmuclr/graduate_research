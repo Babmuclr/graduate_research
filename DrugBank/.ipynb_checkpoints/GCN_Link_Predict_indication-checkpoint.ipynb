{
 "cells": [
  {
   "cell_type": "markdown",
   "metadata": {},
   "source": [
    "# リンク予測( Indication)\n",
    "## ECFP -> ニューラルネットワーク"
   ]
  },
  {
   "cell_type": "code",
   "execution_count": 1,
   "metadata": {},
   "outputs": [],
   "source": [
    "import pandas as pd\n",
    "import numpy as np\n",
    "\n",
    "from rdkit import Chem\n",
    "from rdkit.Chem import AllChem, Draw"
   ]
  },
  {
   "cell_type": "code",
   "execution_count": 2,
   "metadata": {},
   "outputs": [],
   "source": [
    "import torch\n",
    "import torch.utils.data\n",
    "from torchvision import datasets\n",
    "import torch.nn as nn\n",
    "import torch.nn.functional as F\n",
    "import torch.optim as optim  # 最適化アルゴリズム実装のためのライブラリ"
   ]
  },
  {
   "cell_type": "code",
   "execution_count": 3,
   "metadata": {},
   "outputs": [],
   "source": [
    "df = pd.read_pickle(\"data_indication.pkl\")"
   ]
  },
  {
   "cell_type": "code",
   "execution_count": 4,
   "metadata": {},
   "outputs": [
    {
     "data": {
      "text/html": [
       "<div>\n",
       "<style scoped>\n",
       "    .dataframe tbody tr th:only-of-type {\n",
       "        vertical-align: middle;\n",
       "    }\n",
       "\n",
       "    .dataframe tbody tr th {\n",
       "        vertical-align: top;\n",
       "    }\n",
       "\n",
       "    .dataframe thead th {\n",
       "        text-align: right;\n",
       "    }\n",
       "</style>\n",
       "<table border=\"1\" class=\"dataframe\">\n",
       "  <thead>\n",
       "    <tr style=\"text-align: right;\">\n",
       "      <th></th>\n",
       "      <th>smiles</th>\n",
       "      <th>indication</th>\n",
       "    </tr>\n",
       "  </thead>\n",
       "  <tbody>\n",
       "    <tr>\n",
       "      <th>0</th>\n",
       "      <td>[0, 0, 0, 0, 0, 0, 0, 0, 0, 0, 0, 0, 0, 0, 0, ...</td>\n",
       "      <td>0.000000</td>\n",
       "    </tr>\n",
       "    <tr>\n",
       "      <th>1</th>\n",
       "      <td>[0, 0, 0, 0, 0, 0, 0, 0, 0, 0, 0, 0, 0, 0, 0, ...</td>\n",
       "      <td>0.000000</td>\n",
       "    </tr>\n",
       "    <tr>\n",
       "      <th>2</th>\n",
       "      <td>[0, 0, 0, 0, 0, 0, 0, 0, 0, 0, 0, 0, 0, 0, 0, ...</td>\n",
       "      <td>0.000000</td>\n",
       "    </tr>\n",
       "    <tr>\n",
       "      <th>3</th>\n",
       "      <td>[0, 0, 0, 0, 0, 0, 0, 0, 0, 0, 0, 0, 0, 0, 0, ...</td>\n",
       "      <td>0.042896</td>\n",
       "    </tr>\n",
       "    <tr>\n",
       "      <th>5</th>\n",
       "      <td>[0, 0, 0, 0, 0, 0, 0, 0, 0, 0, 0, 0, 0, 0, 0, ...</td>\n",
       "      <td>0.000000</td>\n",
       "    </tr>\n",
       "  </tbody>\n",
       "</table>\n",
       "</div>"
      ],
      "text/plain": [
       "                                              smiles  indication\n",
       "0  [0, 0, 0, 0, 0, 0, 0, 0, 0, 0, 0, 0, 0, 0, 0, ...    0.000000\n",
       "1  [0, 0, 0, 0, 0, 0, 0, 0, 0, 0, 0, 0, 0, 0, 0, ...    0.000000\n",
       "2  [0, 0, 0, 0, 0, 0, 0, 0, 0, 0, 0, 0, 0, 0, 0, ...    0.000000\n",
       "3  [0, 0, 0, 0, 0, 0, 0, 0, 0, 0, 0, 0, 0, 0, 0, ...    0.042896\n",
       "5  [0, 0, 0, 0, 0, 0, 0, 0, 0, 0, 0, 0, 0, 0, 0, ...    0.000000"
      ]
     },
     "execution_count": 4,
     "metadata": {},
     "output_type": "execute_result"
    }
   ],
   "source": [
    "df.head()"
   ]
  },
  {
   "cell_type": "code",
   "execution_count": 5,
   "metadata": {},
   "outputs": [
    {
     "data": {
      "text/plain": [
       "indication    0.0\n",
       "dtype: float64"
      ]
     },
     "execution_count": 5,
     "metadata": {},
     "output_type": "execute_result"
    }
   ],
   "source": [
    "df.median()"
   ]
  },
  {
   "cell_type": "code",
   "execution_count": 6,
   "metadata": {},
   "outputs": [],
   "source": [
    "def f(x):\n",
    "    ans = 0\n",
    "    if x > 0 and x <= 1:\n",
    "        ans = 1\n",
    "    else:\n",
    "        ans = 0\n",
    "    return ans "
   ]
  },
  {
   "cell_type": "code",
   "execution_count": 8,
   "metadata": {},
   "outputs": [],
   "source": [
    "df[\"indication\"] = df[\"indication\"].map(f)"
   ]
  },
  {
   "cell_type": "code",
   "execution_count": 9,
   "metadata": {},
   "outputs": [],
   "source": [
    "df1 = df.sample(n= 10000)"
   ]
  },
  {
   "cell_type": "code",
   "execution_count": 10,
   "metadata": {},
   "outputs": [],
   "source": [
    "from sklearn.model_selection import train_test_split\n",
    "from sklearn.neural_network import MLPClassifier\n",
    "from sklearn.metrics import mean_squared_error"
   ]
  },
  {
   "cell_type": "code",
   "execution_count": 11,
   "metadata": {},
   "outputs": [],
   "source": [
    "X = df1[\"smiles\"].values.tolist()\n",
    "y = df1[\"indication\"].values.tolist()\n",
    "clf = MLPClassifier(hidden_layer_sizes = (128,128), solver = \"sgd\")"
   ]
  },
  {
   "cell_type": "code",
   "execution_count": 12,
   "metadata": {},
   "outputs": [
    {
     "name": "stderr",
     "output_type": "stream",
     "text": [
      "C:\\Users\\Takumi Inui\\Anaconda\\lib\\site-packages\\sklearn\\neural_network\\multilayer_perceptron.py:566: ConvergenceWarning: Stochastic Optimizer: Maximum iterations (200) reached and the optimization hasn't converged yet.\n",
      "  % self.max_iter, ConvergenceWarning)\n"
     ]
    },
    {
     "name": "stdout",
     "output_type": "stream",
     "text": [
      "0.873\n"
     ]
    }
   ],
   "source": [
    "X_train, X_test, y_train, y_test = train_test_split(X, y, test_size=0.1, random_state=0)\n",
    "clf.fit(X_train, y_train)\n",
    "correct = y_test\n",
    "predict = clf.predict(X_test)\n",
    "print(clf.score(X_test, y_test))"
   ]
  },
  {
   "cell_type": "code",
   "execution_count": 28,
   "metadata": {},
   "outputs": [
    {
     "data": {
      "text/plain": [
       "0.889"
      ]
     },
     "execution_count": 28,
     "metadata": {},
     "output_type": "execute_result"
    }
   ],
   "source": [
    "x = sum(y_test)/len(y_test)\n",
    "x = 1 - x\n",
    "x\n",
    "### 全体のリンクあり、なしの割合は、0.5～0.6"
   ]
  },
  {
   "cell_type": "code",
   "execution_count": 14,
   "metadata": {},
   "outputs": [
    {
     "name": "stdout",
     "output_type": "stream",
     "text": [
      "0.873\n"
     ]
    }
   ],
   "source": [
    "per_correct = (predict == correct).sum()\n",
    "print(per_correct / len(correct))"
   ]
  },
  {
   "cell_type": "code",
   "execution_count": 15,
   "metadata": {},
   "outputs": [],
   "source": [
    "df1.rename(columns={\"indication\": 'target'},inplace=True)\n",
    "df1 = df1.reset_index(drop=True)"
   ]
  },
  {
   "cell_type": "code",
   "execution_count": 16,
   "metadata": {},
   "outputs": [
    {
     "data": {
      "text/html": [
       "<div>\n",
       "<style scoped>\n",
       "    .dataframe tbody tr th:only-of-type {\n",
       "        vertical-align: middle;\n",
       "    }\n",
       "\n",
       "    .dataframe tbody tr th {\n",
       "        vertical-align: top;\n",
       "    }\n",
       "\n",
       "    .dataframe thead th {\n",
       "        text-align: right;\n",
       "    }\n",
       "</style>\n",
       "<table border=\"1\" class=\"dataframe\">\n",
       "  <thead>\n",
       "    <tr style=\"text-align: right;\">\n",
       "      <th></th>\n",
       "      <th>smiles</th>\n",
       "      <th>target</th>\n",
       "    </tr>\n",
       "  </thead>\n",
       "  <tbody>\n",
       "    <tr>\n",
       "      <th>9995</th>\n",
       "      <td>[0, 0, 0, 0, 1, 0, 0, 0, 0, 0, 0, 0, 0, 0, 0, ...</td>\n",
       "      <td>0</td>\n",
       "    </tr>\n",
       "    <tr>\n",
       "      <th>9996</th>\n",
       "      <td>[0, 0, 0, 1, 0, 0, 0, 0, 1, 1, 0, 0, 0, 0, 0, ...</td>\n",
       "      <td>0</td>\n",
       "    </tr>\n",
       "    <tr>\n",
       "      <th>9997</th>\n",
       "      <td>[0, 1, 0, 0, 0, 0, 0, 0, 0, 1, 0, 0, 0, 0, 0, ...</td>\n",
       "      <td>0</td>\n",
       "    </tr>\n",
       "    <tr>\n",
       "      <th>9998</th>\n",
       "      <td>[0, 0, 0, 0, 0, 0, 0, 0, 0, 0, 0, 0, 0, 0, 0, ...</td>\n",
       "      <td>1</td>\n",
       "    </tr>\n",
       "    <tr>\n",
       "      <th>9999</th>\n",
       "      <td>[0, 0, 0, 0, 0, 0, 0, 0, 0, 0, 0, 0, 0, 0, 0, ...</td>\n",
       "      <td>0</td>\n",
       "    </tr>\n",
       "  </tbody>\n",
       "</table>\n",
       "</div>"
      ],
      "text/plain": [
       "                                                 smiles  target\n",
       "9995  [0, 0, 0, 0, 1, 0, 0, 0, 0, 0, 0, 0, 0, 0, 0, ...       0\n",
       "9996  [0, 0, 0, 1, 0, 0, 0, 0, 1, 1, 0, 0, 0, 0, 0, ...       0\n",
       "9997  [0, 1, 0, 0, 0, 0, 0, 0, 0, 1, 0, 0, 0, 0, 0, ...       0\n",
       "9998  [0, 0, 0, 0, 0, 0, 0, 0, 0, 0, 0, 0, 0, 0, 0, ...       1\n",
       "9999  [0, 0, 0, 0, 0, 0, 0, 0, 0, 0, 0, 0, 0, 0, 0, ...       0"
      ]
     },
     "execution_count": 16,
     "metadata": {},
     "output_type": "execute_result"
    }
   ],
   "source": [
    "df1.tail()"
   ]
  },
  {
   "cell_type": "code",
   "execution_count": 17,
   "metadata": {},
   "outputs": [],
   "source": [
    "class Net(nn.Module):  # 多層ニューラルネットワークの構築\n",
    "    def __init__(self):\n",
    "        super(Net, self).__init__()\n",
    "        self.fc1 = nn.Linear(1024, 128)  # 一つ目の隠れ層のユニット数は512\n",
    "        self.fc2 = nn.Linear(128, 128)  # 二つ目の隠れ層のユニット数は128\n",
    "        self.fc3 = nn.Linear(128, 2)  # 出力層のユニット数は2\n",
    "\n",
    "\n",
    "    def forward(self, x):\n",
    "        x = F.relu(self.fc1(x))  # 活性化関数にはReLUを使用\n",
    "        x = F.relu(self.fc2(x))  # 活性化関数にはReLUを使用\n",
    "        x = self.fc3(x)\n",
    "        return x\n",
    "\n",
    "net = Net()"
   ]
  },
  {
   "cell_type": "code",
   "execution_count": 18,
   "metadata": {},
   "outputs": [],
   "source": [
    "train_label = torch.tensor(df1[\"target\"]).long()\n",
    "train_data = torch.tensor(df1[\"smiles\"]).float()"
   ]
  },
  {
   "cell_type": "code",
   "execution_count": 19,
   "metadata": {},
   "outputs": [],
   "source": [
    "train_tensor = torch.utils.data.TensorDataset(train_data,train_label)\n",
    "train_dataset, test_dataset = torch.utils.data.random_split(train_tensor, [9000, 1000])"
   ]
  },
  {
   "cell_type": "code",
   "execution_count": 20,
   "metadata": {},
   "outputs": [],
   "source": [
    "train_loader = torch.utils.data.DataLoader(train_dataset, batch_size=32, shuffle=True)\n",
    "test_loader = torch.utils.data.DataLoader(test_dataset, batch_size=32, shuffle=True)"
   ]
  },
  {
   "cell_type": "code",
   "execution_count": 21,
   "metadata": {},
   "outputs": [],
   "source": [
    "criterion = nn.CrossEntropyLoss()  # 学習の際、目的関数として最小二乗誤差を使用\n",
    "optimizer = optim.SGD(net.parameters(), lr=0.001, momentum=0.9)\n",
    "#optimizer = optim.Adam(net.parameters(), lr=1e-3, weight_decay=1e-5)"
   ]
  },
  {
   "cell_type": "code",
   "execution_count": 22,
   "metadata": {},
   "outputs": [],
   "source": [
    "lambda1, lambda2 = 0.5, 0.0001"
   ]
  },
  {
   "cell_type": "code",
   "execution_count": 23,
   "metadata": {},
   "outputs": [
    {
     "name": "stdout",
     "output_type": "stream",
     "text": [
      "115.32384523749352\n",
      "98.70598226040602\n",
      "97.97722867876291\n",
      "97.22696796059608\n",
      "96.52189153432846\n",
      "95.79260742664337\n",
      "94.89333991706371\n",
      "94.262950129807\n",
      "93.31104197353125\n",
      "92.44531328231096\n",
      "91.66202490776777\n",
      "90.73823633790016\n",
      "89.6761543750763\n",
      "88.63763192296028\n",
      "87.32702108472586\n",
      "86.40506365150213\n",
      "84.84988825023174\n",
      "83.82181926816702\n",
      "82.63593293726444\n",
      "81.4243832975626\n",
      "80.15539877861738\n",
      "78.7974187657237\n",
      "77.38388867676258\n",
      "76.07086355239153\n",
      "74.67263784259558\n",
      "73.30400858074427\n",
      "72.37302307784557\n",
      "70.55763204023242\n",
      "69.35960641503334\n",
      "67.70105252414942\n",
      "66.21586446464062\n",
      "64.11016288399696\n",
      "63.01103410497308\n",
      "60.85582009702921\n",
      "58.95844313874841\n",
      "56.755978148430586\n",
      "55.4339728243649\n",
      "52.69982463121414\n",
      "50.833171758800745\n",
      "47.7439811937511\n",
      "45.25706660374999\n",
      "42.666120145469904\n",
      "40.249695079401135\n",
      "37.52501508034766\n",
      "34.70586138404906\n",
      "31.722696667537093\n",
      "28.943962777033448\n",
      "26.336751386523247\n",
      "23.833859637379646\n",
      "22.142979633063078\n",
      "19.209776086732745\n",
      "17.04463448934257\n",
      "15.51378674339503\n",
      "13.730569343082607\n",
      "12.10634732618928\n",
      "10.618919325061142\n",
      "9.515281178988516\n",
      "8.634087051497772\n",
      "7.775671106763184\n",
      "6.959338295971975\n",
      "6.284393279347569\n",
      "5.792316440027207\n",
      "5.206394089385867\n",
      "4.977938245981932\n",
      "4.501617855625227\n",
      "4.094031135784462\n",
      "3.7866774739231914\n",
      "3.524262015009299\n",
      "3.3044706319924444\n",
      "3.0526129885111004\n",
      "2.883705685962923\n",
      "2.758926572278142\n",
      "2.5898587773554027\n",
      "2.4275003045331687\n",
      "2.3049117100890726\n",
      "2.156898777349852\n",
      "2.063993899268098\n",
      "2.075543698738329\n",
      "1.8703399642836303\n",
      "1.7818602693150751\n",
      "1.693066420033574\n",
      "1.6078573934501037\n",
      "1.5446503218263388\n",
      "1.4982122004730627\n",
      "1.42343987186905\n",
      "1.3607437110040337\n",
      "1.3396340450271964\n",
      "1.2675078919855878\n",
      "1.2278874651528895\n",
      "1.1725893460097723\n",
      "1.1533159302780405\n",
      "1.114726556261303\n",
      "1.0712396469898522\n",
      "1.0429284683195874\n",
      "0.9910665333009092\n",
      "0.9835537786711939\n",
      "0.9589934661635198\n",
      "0.9170917623559944\n",
      "0.8964665763196535\n",
      "0.870972931094002\n",
      "\n",
      "学習が終了しました。\n"
     ]
    }
   ],
   "source": [
    "for epoch in range(100):\n",
    "    total_loss = 0.0\n",
    "    for i, data in enumerate(train_loader):\n",
    "        inputs, labels = data\n",
    "        optimizer.zero_grad()  \n",
    "        outputs = net(inputs)\n",
    "        loss = criterion(outputs, labels)\n",
    "        loss.backward()\n",
    "        optimizer.step()\n",
    "        total_loss += loss.item()\n",
    "    print(total_loss)\n",
    "print('\\n学習が終了しました。')"
   ]
  },
  {
   "cell_type": "code",
   "execution_count": 32,
   "metadata": {},
   "outputs": [],
   "source": [
    "correct = 0.0  # 正答数を表す\n",
    "total = 0.0  # テストデータの総数を表す\n",
    "for data in test_loader:\n",
    "    inputs, labels = data\n",
    "    outputs = net(inputs)\n",
    "    _, predicted = torch.max(outputs.data, 1)\n",
    "    total += labels.size(0)  # テストデータの総数を計算\n",
    "    correct += (predicted == labels).sum().item()  # 正答数を計算"
   ]
  },
  {
   "cell_type": "code",
   "execution_count": 33,
   "metadata": {},
   "outputs": [
    {
     "name": "stdout",
     "output_type": "stream",
     "text": [
      "テストデータに対する正答率： 883 / 1000 = 0.883000\n",
      "\n",
      "ラベル：    0    0    0    0    0    0    0    0\n",
      "　予測：    0    0    0    0    0    0    0    0\n",
      "\n",
      "ラベル：    0    0    0    0    0    1    0    0\n",
      "　予測：    0    0    0    0    0    0    0    0\n",
      "\n",
      "ラベル：    0    0    0    0    0    0    0    0\n",
      "　予測：    0    0    0    0    0    0    0    0\n",
      "\n",
      "ラベル：    0    0    0    0    0    0    0    0\n",
      "　予測：    0    0    0    0    0    0    0    0\n",
      "\n"
     ]
    }
   ],
   "source": [
    "print('テストデータに対する正答率： %d / %d = %f' % (correct, total, correct / total) + '\\n')\n",
    "\n",
    "dataiter = iter(test_loader)\n",
    "for i in range(4):  # テストデータの一部を4行に分けて可視化\n",
    "    images, labels = dataiter.next()\n",
    "    print(\"ラベル：\" + \"\".join('%5s' % labels[j].item() for j in range(8)))  # ラベルの値を表示\n",
    "\n",
    "    _, predict = torch.max(net(images).data, 1)  # テストデータに対する予測を出力\n",
    "    print(\"　予測：\" + \"\".join('%5s' % predict[j].item() for j in range(8)) + \"\\n\")  # 予測結果を表示"
   ]
  },
  {
   "cell_type": "code",
   "execution_count": null,
   "metadata": {},
   "outputs": [],
   "source": []
  }
 ],
 "metadata": {
  "kernelspec": {
   "display_name": "Python 3",
   "language": "python",
   "name": "python3"
  },
  "language_info": {
   "codemirror_mode": {
    "name": "ipython",
    "version": 3
   },
   "file_extension": ".py",
   "mimetype": "text/x-python",
   "name": "python",
   "nbconvert_exporter": "python",
   "pygments_lexer": "ipython3",
   "version": "3.7.3"
  }
 },
 "nbformat": 4,
 "nbformat_minor": 2
}
