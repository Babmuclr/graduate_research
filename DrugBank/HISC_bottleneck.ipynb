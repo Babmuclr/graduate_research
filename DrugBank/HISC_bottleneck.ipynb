{
 "cells": [
  {
   "cell_type": "code",
   "execution_count": 1,
   "metadata": {},
   "outputs": [],
   "source": [
    "#coding=utf8"
   ]
  },
  {
   "cell_type": "code",
   "execution_count": 2,
   "metadata": {},
   "outputs": [],
   "source": [
    "from __future__ import division\n",
    "from __future__ import print_function\n",
    "from __future__ import absolute_import\n",
    "from __future__ import unicode_literals"
   ]
  },
  {
   "cell_type": "code",
   "execution_count": 3,
   "metadata": {},
   "outputs": [],
   "source": [
    "import torch\n",
    "from torch import nn, optim"
   ]
  },
  {
   "cell_type": "code",
   "execution_count": 4,
   "metadata": {},
   "outputs": [],
   "source": [
    "import numpy as np\n",
    "import sys\n",
    "import matplotlib.pyplot as plt\n",
    "from collections import Iterable"
   ]
  },
  {
   "cell_type": "code",
   "execution_count": 5,
   "metadata": {},
   "outputs": [],
   "source": [
    "torch.manual_seed(1)\n",
    "HSIC_epochs = 1\n",
    "POST_epochs = 1"
   ]
  },
  {
   "cell_type": "code",
   "execution_count": 6,
   "metadata": {},
   "outputs": [],
   "source": [
    "def kernel_matrix(x : torch.Tensor, sigma):\n",
    "    dim = len(x.size())\n",
    "    x1  = torch.unsqueeze(x, 0)\n",
    "    x2  = torch.unsqueeze(x, 1)\n",
    "    axis= tuple(range(2, dim+1))\n",
    "    if dim > 1:\n",
    "        return torch.exp( -0.5 * torch.sum(torch.pow(x1-x2, 2), axis=axis) / sigma**2)\n",
    "    else:\n",
    "        return torch.exp( -0.5 * torch.pow(x1-x2, 2) / sigma**2)"
   ]
  },
  {
   "cell_type": "code",
   "execution_count": 7,
   "metadata": {},
   "outputs": [],
   "source": [
    "def HSIC(Kx, Ky, m):\n",
    "    xy = torch.matmul(Kx, Ky)\n",
    "    h  = torch.trace(xy) / m**2 + torch.mean(Kx)*torch.mean(Ky) - 2 * torch.mean(xy)/m\n",
    "    return h*(m/(m-1))**2 "
   ]
  },
  {
   "cell_type": "code",
   "execution_count": 8,
   "metadata": {},
   "outputs": [],
   "source": [
    "class HSICBottleneck:\n",
    "    def __init__(self, model, batch_size, lambda_0, sigma, multi_sigma=None,lr=0.01):   \n",
    "        # self.model      = model\n",
    "        self.model      = Extractor(model)\n",
    "        self.batch_size = batch_size\n",
    "        self.lambda_0   = lambda_0\n",
    "        self.sigma      = sigma\n",
    "        self.extractor  = 'hsic'\n",
    "        # self.trainable  = []\n",
    "        self.lr         = lr\n",
    "        self.multi_sigma = multi_sigma\n",
    "        assert isinstance(self.multi_sigma, Iterable) if  multi_sigma is not None else True\n",
    "        \n",
    "        self.opt = optim.RMSprop(self.model.parameters(), lr)\n",
    "        # self.opt = optim.SGD(self.trainable, lr)\n",
    "        self.remember = []\n",
    "        \n",
    "    def step(self, input_data, labels):\n",
    "        Kx  = kernel_matrix(input_data, self.sigma)\n",
    "        Ky = kernel_matrix(labels, self.sigma)\n",
    "        \n",
    "        total_loss = 0.\n",
    "        \n",
    "        y_pred, hidden_zs = self.model(input_data)\n",
    "        \n",
    "        for name, layer in self.model.named_children():\n",
    "            \n",
    "            if self.extractor in name:\n",
    "                hidden_z = hidden_zs[name]\n",
    "                Kz = kernel_matrix(hidden_z, self.sigma)\n",
    "                loss = HSIC(Kz, Kx, self.batch_size) - self.lambda_0*HSIC(Kz,Ky, self.batch_size)\n",
    "                total_loss += loss\n",
    "        \n",
    "        self.opt.zero_grad()\n",
    "        total_loss.backward()\n",
    "        self.opt.step()\n",
    "        \n",
    "        self.remember.append(total_loss.item())\n",
    "                \n",
    "        return total_loss.item()\n",
    "\n",
    "    def multi_sigma_step(self, input_data, labels):\n",
    "        # TODO\n",
    "        if self.multi_sigma is None:\n",
    "            return self.step(input_data, labels)\n",
    "        Kx = []\n",
    "        Ky = []\n",
    "        \n",
    "        for sigma in self.multi_sigma:\n",
    "            Kx.append(kernel_matrix(input_data, self.sigma))\n",
    "            Ky.append(kernel_matrix(labels, self.sigma))\n",
    "        \n",
    "        total_loss = 0.\n",
    "        \n",
    "        y_pred, hidden_zs = self.model(input_data)\n",
    "        \n",
    "        for name, layer in self.model.named_children():\n",
    "            #TODO\n",
    "            if self.extractor in name:\n",
    "                hidden_z = hidden_zs[name]\n",
    "                Kz = []\n",
    "                for sigma in self.multi_sigma:\n",
    "                    Kz.append(kernel_matrix(hidden_z, self.sigma))\n",
    "                loss = 0.\n",
    "                for i in range(len(self.multi_sigma)):\n",
    "                    loss += HSIC(Kz[i], Kx[i], self.batch_size) - self.lambda_0*HSIC(Kz[i], Ky[i], self.batch_size)\n",
    "                total_loss += loss\n",
    "        \n",
    "        self.opt.zero_grad()\n",
    "        total_loss.backward()\n",
    "        self.opt.step()\n",
    "        \n",
    "        self.remember.append(total_loss.item())\n",
    "                \n",
    "        return total_loss.item()"
   ]
  },
  {
   "cell_type": "code",
   "execution_count": 9,
   "metadata": {},
   "outputs": [],
   "source": [
    "class Test_model(nn.Module):\n",
    "    def __init__(self):\n",
    "        super(Test_model, self).__init__()\n",
    "        self.hsic1 = nn.Linear(10, 20)\n",
    "        self.f1 = nn.ReLU()\n",
    "        self.f3 = nn.Dropout(p=0.2)\n",
    "        self.hsic2 = nn.Linear(20, 32)\n",
    "        self.hsic3 = nn.Linear(32, 16)\n",
    "        self.output_layer  = nn.Linear(16, 1)\n",
    "        self.f2 = nn.Sigmoid()\n",
    "        \n",
    "    def forward(self, data):\n",
    "        x = self.f1(self.hsic1(data))\n",
    "        x = self.f1(self.hsic2(x))\n",
    "        x = self.f3(x)\n",
    "        x = self.f1(self.hsic3(x))\n",
    "        x = self.f2(self.output_layer(x))\n",
    "        return x"
   ]
  },
  {
   "cell_type": "code",
   "execution_count": 10,
   "metadata": {},
   "outputs": [],
   "source": [
    "class Extractor(nn.Module):\n",
    "    def __init__(self, model : nn.Module):\n",
    "        super(Extractor, self).__init__()\n",
    "        self.extractor_pre = 'hsic'\n",
    "        self.all_layers = []\n",
    "        for name, layer in model.named_children():\n",
    "            setattr(self, name, layer)\n",
    "            self.all_layers.append(name)\n",
    "        # set all_layers to tuple, fix its order\n",
    "        self.all_layers = tuple(self.all_layers)\n",
    "    \n",
    "    def forward(self, data):\n",
    "        x = data\n",
    "        hidden = {}\n",
    "        for name in self.all_layers:\n",
    "            name : str\n",
    "            layer = getattr(self,name)\n",
    "            x = layer(x)\n",
    "            if name.startswith(self.extractor_pre):\n",
    "                hidden[name] = x\n",
    "        return x, hidden"
   ]
  },
  {
   "cell_type": "code",
   "execution_count": 11,
   "metadata": {},
   "outputs": [
    {
     "name": "stdout",
     "output_type": "stream",
     "text": [
      "POS: 502.   NEG: 101898\n"
     ]
    }
   ],
   "source": [
    "X = np.random.standard_normal((256*400, 10))\n",
    "y = np.uint8(np.sum(X ** 2, axis=-1) > 25.).reshape((-1,1))\n",
    "print(f\"POS: {np.sum(y)}.   NEG: {len(y) - np.sum(y)}\")"
   ]
  },
  {
   "cell_type": "code",
   "execution_count": 16,
   "metadata": {},
   "outputs": [],
   "source": [
    "X = torch.Tensor(X)\n",
    "y = torch.Tensor(y)"
   ]
  },
  {
   "cell_type": "code",
   "execution_count": 17,
   "metadata": {},
   "outputs": [],
   "source": [
    "num_train = 256 * 360\n",
    "X_train = X[:num_train, :]\n",
    "y_train = y[:num_train]\n",
    "X_test  = X[num_train:, :]\n",
    "y_test  = y[num_train:]"
   ]
  },
  {
   "cell_type": "code",
   "execution_count": 18,
   "metadata": {},
   "outputs": [],
   "source": [
    "model = Test_model()\n",
    "model.train()\n",
    "# HSIC training\n",
    "batch_size = 256\n",
    "hsic = HSICBottleneck(model, batch_size=256, lambda_0=100., sigma=10.)"
   ]
  },
  {
   "cell_type": "code",
   "execution_count": 19,
   "metadata": {
    "scrolled": true
   },
   "outputs": [
    {
     "data": {
      "text/plain": [
       "float"
      ]
     },
     "execution_count": 19,
     "metadata": {},
     "output_type": "execute_result"
    }
   ],
   "source": [
    "type(y_train[0].item())"
   ]
  },
  {
   "cell_type": "code",
   "execution_count": 20,
   "metadata": {},
   "outputs": [
    {
     "name": "stdout",
     "output_type": "stream",
     "text": [
      "===============================\n",
      "EPOCH 0\n",
      "0.000906 =>0.000977 =>0.001301 =>0.001035 =>0.001053 =>-0.000136 =>-0.003609 =>0.004621 =>\n"
     ]
    }
   ],
   "source": [
    "for epoch in range(HSIC_epochs):\n",
    "    print(\"===============================\")\n",
    "    print(\"EPOCH %d\" % epoch)\n",
    "    index = np.arange(len(X_train))\n",
    "    np.random.shuffle(index)\n",
    "    X_train = X_train[index]\n",
    "    y_train = y_train[index]\n",
    "    for batch in range(0, int(num_train/batch_size)):    \n",
    "        data_x = X_train[batch*batch_size : (batch+1)*batch_size]\n",
    "        label  = y_train[batch*batch_size : (batch+1)*batch_size]\n",
    "        loss = hsic.step(data_x, label)\n",
    "        if batch % 50 == 0:\n",
    "            sys.stdout.write(\"%6.6f =>\" % loss)\n",
    "            sys.stdout.flush()\n",
    "    sys.stdout.write('\\n')"
   ]
  },
  {
   "cell_type": "code",
   "execution_count": 19,
   "metadata": {},
   "outputs": [
    {
     "data": {
      "image/png": "[encoded data removed]",
      "text/plain": [
       "<Figure size 432x288 with 1 Axes>"
      ]
     },
     "metadata": {
      "needs_background": "light"
     },
     "output_type": "display_data"
    }
   ],
   "source": [
    "plt.plot(range(len(hsic.remember)), hsic.remember)\n",
    "plt.title(\"HSIC training\")\n",
    "plt.xlabel(\"steps\")\n",
    "plt.ylabel(\"HSIC loss\")\n",
    "plt.show()"
   ]
  },
  {
   "cell_type": "code",
   "execution_count": 51,
   "metadata": {},
   "outputs": [],
   "source": [
    "# Post training\n",
    "criterion = nn.BCELoss()\n",
    "post = PostTrained(model, criterion=criterion)"
   ]
  },
  {
   "cell_type": "code",
   "execution_count": 52,
   "metadata": {},
   "outputs": [
    {
     "name": "stdout",
     "output_type": "stream",
     "text": [
      "===============================\n",
      "POST EPOCH 0\n",
      "0.586148 =>0.026702 =>0.005841 =>0.045832 =>0.006077 =>0.004637 =>0.068912 =>0.046899 =>\n"
     ]
    }
   ],
   "source": [
    "for epoch in range(POST_epochs):\n",
    "    print(\"===============================\")\n",
    "    print(\"POST EPOCH %d\" % epoch)\n",
    "    index = np.arange(len(X_train))\n",
    "    np.random.shuffle(index)\n",
    "    X_train = X_train[index]\n",
    "    y_train = y_train[index]\n",
    "    for batch in range(0, int(num_train/batch_size)):    \n",
    "        data_x = X_train[batch*batch_size : (batch+1)*batch_size]\n",
    "        label  = y_train[batch*batch_size : (batch+1)*batch_size]\n",
    "        loss = post.step(data_x, label)\n",
    "        if batch % 50 == 0:\n",
    "            sys.stdout.write(\"%6.6f =>\" % loss)\n",
    "            sys.stdout.flush()\n",
    "    sys.stdout.write('\\n')"
   ]
  },
  {
   "cell_type": "code",
   "execution_count": null,
   "metadata": {},
   "outputs": [],
   "source": [
    "class Test_model(nn.Module):\n",
    "    def __init__(self):\n",
    "        super(Test_model, self).__init__()\n",
    "        self.hsic1 = nn.Linear(10, 20)\n",
    "        self.f1 = nn.ReLU()\n",
    "        self.f3 = nn.Dropout(p=0.2)\n",
    "        self.hsic2 = nn.Linear(20, 32)\n",
    "        self.hsic3 = nn.Linear(32, 16)\n",
    "        self.output_layer  = nn.Linear(16, 1)\n",
    "        self.f2 = nn.Sigmoid()\n",
    "        \n",
    "    def forward(self, data):\n",
    "        x = self.f1(self.hsic1(data))\n",
    "        x = self.f1(self.hsic2(x))\n",
    "        x = self.f3(x)\n",
    "        x = self.f1(self.hsic3(x))\n",
    "        x = self.f2(self.output_layer(x))\n",
    "        return x"
   ]
  },
  {
   "cell_type": "code",
   "execution_count": null,
   "metadata": {},
   "outputs": [],
   "source": [
    "class Extractor(nn.Module):\n",
    "    def __init__(self, model : nn.Module):\n",
    "        super(Extractor, self).__init__()\n",
    "        self.extractor_pre = 'hsic'\n",
    "        self.all_layers = []\n",
    "        for name, layer in model.named_children():\n",
    "            setattr(self, name, layer)\n",
    "            self.all_layers.append(name)\n",
    "        # set all_layers to tuple, fix its order\n",
    "        self.all_layers = tuple(self.all_layers)\n",
    "    \n",
    "    \n",
    "    def forward(self, data):\n",
    "        x = data\n",
    "        hidden = {}\n",
    "        for name in self.all_layers:\n",
    "            name : str\n",
    "            layer = getattr(self,name)\n",
    "            x = layer(x)\n",
    "            if name.startswith(self.extractor_pre):\n",
    "                hidden[name] = x\n",
    "        return x, hidden"
   ]
  },
  {
   "cell_type": "code",
   "execution_count": 50,
   "metadata": {},
   "outputs": [],
   "source": [
    "class PostTrained:\n",
    "    def __init__(self, model : nn.Module, criterion,lr=0.1):\n",
    "        parameters = []\n",
    "        model.train()\n",
    "        for name, layer in model.named_children():\n",
    "            if name == \"output_layer\":\n",
    "                for params in layer.parameters():\n",
    "                    parameters.append(params)\n",
    "            else:\n",
    "                for params in layer.parameters():\n",
    "                    params.requires_grad = False\n",
    "        self.opt   = optim.RMSprop(parameters, lr)\n",
    "        self.model = model\n",
    "        self.lr    = lr\n",
    "        self.criterion = criterion\n",
    "\n",
    "    def step(self, input_data, labels):\n",
    "        output_data = self.model(input_data)\n",
    "        loss = self.criterion(output_data, labels)\n",
    "        self.opt.zero_grad()\n",
    "        loss.backward()\n",
    "        self.opt.step()\n",
    "        return loss.item()"
   ]
  },
  {
   "cell_type": "code",
   "execution_count": 26,
   "metadata": {},
   "outputs": [],
   "source": [
    "def test_kernel(sigma=0.5):\n",
    "    x   = np.random.rand(100,10)\n",
    "    x   = torch.from_numpy(x)\n",
    "    mat = kernel_matrix(x, sigma)\n",
    "    print(mat.size(), \"supposed to be (100,100)\")\n",
    "    x   = np.random.rand(100,128,128)\n",
    "    x   = torch.from_numpy(x)\n",
    "    mat = kernel_matrix(x, sigma)\n",
    "    print(mat.size(), \"supposed to be (100,100)\")"
   ]
  },
  {
   "cell_type": "code",
   "execution_count": null,
   "metadata": {},
   "outputs": [],
   "source": []
  }
 ],
 "metadata": {
  "kernelspec": {
   "display_name": "'Python Interactive'",
   "language": "python",
   "name": "6e3d0710-4027-4042-a392-ad33a6e7b365"
  },
  "language_info": {
   "codemirror_mode": {
    "name": "ipython",
    "version": 3
   },
   "file_extension": ".py",
   "mimetype": "text/x-python",
   "name": "python",
   "nbconvert_exporter": "python",
   "pygments_lexer": "ipython3",
   "version": "3.7.3"
  }
 },
 "nbformat": 4,
 "nbformat_minor": 2
}
