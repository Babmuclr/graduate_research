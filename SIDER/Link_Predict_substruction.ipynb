{
 "cells": [
  {
   "cell_type": "markdown",
   "metadata": {},
   "source": [
    "# リンク予測( Indication)\n",
    "## ECFP -> ニューラルネットワーク"
   ]
  },
  {
   "cell_type": "code",
   "execution_count": 1,
   "metadata": {},
   "outputs": [],
   "source": [
    "import pandas as pd\n",
    "import numpy as np\n",
    "\n",
    "from rdkit import Chem\n",
    "from rdkit.Chem import AllChem, Draw"
   ]
  },
  {
   "cell_type": "code",
   "execution_count": 2,
   "metadata": {},
   "outputs": [],
   "source": [
    "import torch\n",
    "import torch.utils.data\n",
    "from torchvision import datasets\n",
    "import torch.nn as nn\n",
    "import torch.nn.functional as F\n",
    "import torch.optim as optim  # 最適化アルゴリズム実装のためのライブラリ"
   ]
  },
  {
   "cell_type": "code",
   "execution_count": 3,
   "metadata": {},
   "outputs": [],
   "source": [
    "df = pd.read_pickle(\"data_substruction.pkl\")"
   ]
  },
  {
   "cell_type": "code",
   "execution_count": 4,
   "metadata": {},
   "outputs": [
    {
     "data": {
      "text/html": [
       "<div>\n",
       "<style scoped>\n",
       "    .dataframe tbody tr th:only-of-type {\n",
       "        vertical-align: middle;\n",
       "    }\n",
       "\n",
       "    .dataframe tbody tr th {\n",
       "        vertical-align: top;\n",
       "    }\n",
       "\n",
       "    .dataframe thead th {\n",
       "        text-align: right;\n",
       "    }\n",
       "</style>\n",
       "<table border=\"1\" class=\"dataframe\">\n",
       "  <thead>\n",
       "    <tr style=\"text-align: right;\">\n",
       "      <th></th>\n",
       "      <th>smiles1</th>\n",
       "      <th>smiles2</th>\n",
       "      <th>substructure</th>\n",
       "    </tr>\n",
       "  </thead>\n",
       "  <tbody>\n",
       "    <tr>\n",
       "      <th>0</th>\n",
       "      <td>[0, 0, 0, 0, 0, 0, 0, 0, 0, 0, 0, 0, 0, 0, 0, ...</td>\n",
       "      <td>[0, 0, 0, 0, 0, 0, 0, 0, 0, 0, 0, 0, 0, 0, 0, ...</td>\n",
       "      <td>0.69</td>\n",
       "    </tr>\n",
       "    <tr>\n",
       "      <th>1</th>\n",
       "      <td>[0, 0, 0, 0, 0, 0, 0, 0, 0, 0, 0, 0, 0, 0, 0, ...</td>\n",
       "      <td>[0, 1, 0, 0, 0, 0, 0, 0, 0, 0, 0, 0, 1, 0, 0, ...</td>\n",
       "      <td>0.22</td>\n",
       "    </tr>\n",
       "    <tr>\n",
       "      <th>2</th>\n",
       "      <td>[0, 0, 0, 0, 0, 0, 0, 0, 0, 0, 0, 0, 0, 0, 0, ...</td>\n",
       "      <td>[0, 0, 0, 0, 0, 0, 0, 0, 0, 0, 0, 0, 0, 0, 0, ...</td>\n",
       "      <td>0.27</td>\n",
       "    </tr>\n",
       "    <tr>\n",
       "      <th>3</th>\n",
       "      <td>[0, 0, 0, 0, 0, 0, 0, 0, 0, 0, 0, 0, 0, 0, 0, ...</td>\n",
       "      <td>[0, 0, 0, 0, 0, 0, 0, 0, 0, 0, 0, 0, 0, 0, 0, ...</td>\n",
       "      <td>0.36</td>\n",
       "    </tr>\n",
       "    <tr>\n",
       "      <th>4</th>\n",
       "      <td>[0, 0, 0, 0, 0, 0, 0, 0, 0, 0, 0, 0, 0, 0, 0, ...</td>\n",
       "      <td>[0, 0, 0, 0, 0, 0, 0, 0, 0, 0, 1, 1, 0, 1, 0, ...</td>\n",
       "      <td>0.44</td>\n",
       "    </tr>\n",
       "  </tbody>\n",
       "</table>\n",
       "</div>"
      ],
      "text/plain": [
       "                                             smiles1  \\\n",
       "0  [0, 0, 0, 0, 0, 0, 0, 0, 0, 0, 0, 0, 0, 0, 0, ...   \n",
       "1  [0, 0, 0, 0, 0, 0, 0, 0, 0, 0, 0, 0, 0, 0, 0, ...   \n",
       "2  [0, 0, 0, 0, 0, 0, 0, 0, 0, 0, 0, 0, 0, 0, 0, ...   \n",
       "3  [0, 0, 0, 0, 0, 0, 0, 0, 0, 0, 0, 0, 0, 0, 0, ...   \n",
       "4  [0, 0, 0, 0, 0, 0, 0, 0, 0, 0, 0, 0, 0, 0, 0, ...   \n",
       "\n",
       "                                             smiles2  substructure  \n",
       "0  [0, 0, 0, 0, 0, 0, 0, 0, 0, 0, 0, 0, 0, 0, 0, ...          0.69  \n",
       "1  [0, 1, 0, 0, 0, 0, 0, 0, 0, 0, 0, 0, 1, 0, 0, ...          0.22  \n",
       "2  [0, 0, 0, 0, 0, 0, 0, 0, 0, 0, 0, 0, 0, 0, 0, ...          0.27  \n",
       "3  [0, 0, 0, 0, 0, 0, 0, 0, 0, 0, 0, 0, 0, 0, 0, ...          0.36  \n",
       "4  [0, 0, 0, 0, 0, 0, 0, 0, 0, 0, 1, 1, 0, 1, 0, ...          0.44  "
      ]
     },
     "execution_count": 4,
     "metadata": {},
     "output_type": "execute_result"
    }
   ],
   "source": [
    "df.head()"
   ]
  },
  {
   "cell_type": "code",
   "execution_count": 5,
   "metadata": {},
   "outputs": [
    {
     "data": {
      "text/plain": [
       "substructure    0.33\n",
       "dtype: float64"
      ]
     },
     "execution_count": 5,
     "metadata": {},
     "output_type": "execute_result"
    }
   ],
   "source": [
    "df.median()"
   ]
  },
  {
   "cell_type": "code",
   "execution_count": 6,
   "metadata": {},
   "outputs": [],
   "source": [
    "def f(x):\n",
    "    ans = 0\n",
    "    if x > 0.3 and x <= 1:\n",
    "        ans = 1\n",
    "    else:\n",
    "        ans = 0\n",
    "    return ans "
   ]
  },
  {
   "cell_type": "code",
   "execution_count": 7,
   "metadata": {},
   "outputs": [],
   "source": [
    "df[\"substructure\"] = df[\"substructure\"].map(f)"
   ]
  },
  {
   "cell_type": "code",
   "execution_count": 8,
   "metadata": {},
   "outputs": [],
   "source": [
    "class Net(nn.Module):  # 多層ニューラルネットワークの構築\n",
    "    def __init__(self):\n",
    "        super(Net, self).__init__()\n",
    "        self.share1 = nn.Linear(512,1024)\n",
    "        self.share2 = nn.Linear(1024,512)\n",
    "        self.fc1 = nn.Linear(1024, 128)  # 一つ目の隠れ層のユニット数は512\n",
    "        self.fc2 = nn.Linear(128, 128)  # 二つ目の隠れ層のユニット数は128\n",
    "        self.fc3 = nn.Linear(128, 1)  # 出力層のユニット数は1\n",
    "\n",
    "\n",
    "    def forward(self, x, y):\n",
    "        a = F.relu(self.share1(x))\n",
    "        a = self.share2(a)\n",
    "        b = F.relu(self.share1(y))\n",
    "        b = self.share2(b)\n",
    "        x = torch.cat([a,b], dim=1)\n",
    "        x = F.relu(self.fc1(x))  # 活性化関数にはReLUを使用\n",
    "        x = F.relu(self.fc2(x))  # 活性化関数にはReLUを使用\n",
    "        x = torch.sigmoid(self.fc3(x))\n",
    "        return x\n",
    "\n",
    "net = Net()"
   ]
  },
  {
   "cell_type": "code",
   "execution_count": 9,
   "metadata": {},
   "outputs": [],
   "source": [
    "df_sample = df.sample(n=10000)\n",
    "df_sample = df_sample.reset_index(drop=True)"
   ]
  },
  {
   "cell_type": "code",
   "execution_count": 10,
   "metadata": {},
   "outputs": [
    {
     "data": {
      "text/html": [
       "<div>\n",
       "<style scoped>\n",
       "    .dataframe tbody tr th:only-of-type {\n",
       "        vertical-align: middle;\n",
       "    }\n",
       "\n",
       "    .dataframe tbody tr th {\n",
       "        vertical-align: top;\n",
       "    }\n",
       "\n",
       "    .dataframe thead th {\n",
       "        text-align: right;\n",
       "    }\n",
       "</style>\n",
       "<table border=\"1\" class=\"dataframe\">\n",
       "  <thead>\n",
       "    <tr style=\"text-align: right;\">\n",
       "      <th></th>\n",
       "      <th>smiles1</th>\n",
       "      <th>smiles2</th>\n",
       "      <th>substructure</th>\n",
       "    </tr>\n",
       "  </thead>\n",
       "  <tbody>\n",
       "    <tr>\n",
       "      <th>0</th>\n",
       "      <td>[0, 0, 0, 0, 0, 0, 0, 0, 0, 0, 0, 0, 0, 0, 0, ...</td>\n",
       "      <td>[0, 1, 0, 0, 0, 0, 0, 0, 0, 0, 0, 0, 0, 0, 0, ...</td>\n",
       "      <td>0</td>\n",
       "    </tr>\n",
       "    <tr>\n",
       "      <th>1</th>\n",
       "      <td>[0, 1, 0, 0, 0, 0, 0, 0, 0, 0, 0, 0, 0, 0, 0, ...</td>\n",
       "      <td>[1, 1, 0, 0, 0, 0, 0, 0, 1, 0, 0, 1, 0, 0, 0, ...</td>\n",
       "      <td>0</td>\n",
       "    </tr>\n",
       "    <tr>\n",
       "      <th>2</th>\n",
       "      <td>[0, 0, 1, 0, 1, 0, 0, 0, 0, 0, 0, 0, 0, 0, 0, ...</td>\n",
       "      <td>[0, 0, 0, 0, 1, 0, 1, 0, 0, 0, 0, 0, 0, 0, 0, ...</td>\n",
       "      <td>0</td>\n",
       "    </tr>\n",
       "    <tr>\n",
       "      <th>3</th>\n",
       "      <td>[0, 0, 0, 1, 0, 0, 0, 0, 0, 0, 0, 0, 0, 0, 0, ...</td>\n",
       "      <td>[0, 0, 0, 0, 0, 0, 0, 0, 0, 0, 1, 0, 0, 1, 0, ...</td>\n",
       "      <td>1</td>\n",
       "    </tr>\n",
       "    <tr>\n",
       "      <th>4</th>\n",
       "      <td>[0, 0, 1, 0, 1, 0, 0, 0, 0, 0, 0, 0, 0, 1, 0, ...</td>\n",
       "      <td>[0, 1, 0, 0, 0, 0, 0, 0, 0, 0, 0, 0, 0, 0, 0, ...</td>\n",
       "      <td>1</td>\n",
       "    </tr>\n",
       "  </tbody>\n",
       "</table>\n",
       "</div>"
      ],
      "text/plain": [
       "                                             smiles1  \\\n",
       "0  [0, 0, 0, 0, 0, 0, 0, 0, 0, 0, 0, 0, 0, 0, 0, ...   \n",
       "1  [0, 1, 0, 0, 0, 0, 0, 0, 0, 0, 0, 0, 0, 0, 0, ...   \n",
       "2  [0, 0, 1, 0, 1, 0, 0, 0, 0, 0, 0, 0, 0, 0, 0, ...   \n",
       "3  [0, 0, 0, 1, 0, 0, 0, 0, 0, 0, 0, 0, 0, 0, 0, ...   \n",
       "4  [0, 0, 1, 0, 1, 0, 0, 0, 0, 0, 0, 0, 0, 1, 0, ...   \n",
       "\n",
       "                                             smiles2  substructure  \n",
       "0  [0, 1, 0, 0, 0, 0, 0, 0, 0, 0, 0, 0, 0, 0, 0, ...             0  \n",
       "1  [1, 1, 0, 0, 0, 0, 0, 0, 1, 0, 0, 1, 0, 0, 0, ...             0  \n",
       "2  [0, 0, 0, 0, 1, 0, 1, 0, 0, 0, 0, 0, 0, 0, 0, ...             0  \n",
       "3  [0, 0, 0, 0, 0, 0, 0, 0, 0, 0, 1, 0, 0, 1, 0, ...             1  \n",
       "4  [0, 1, 0, 0, 0, 0, 0, 0, 0, 0, 0, 0, 0, 0, 0, ...             1  "
      ]
     },
     "execution_count": 10,
     "metadata": {},
     "output_type": "execute_result"
    }
   ],
   "source": [
    "df_sample.head()"
   ]
  },
  {
   "cell_type": "code",
   "execution_count": 11,
   "metadata": {},
   "outputs": [],
   "source": [
    "A = df_sample[\"smiles1\"]\n",
    "B = df_sample[\"smiles2\"]\n",
    "target = df_sample[\"substructure\"]"
   ]
  },
  {
   "cell_type": "code",
   "execution_count": 12,
   "metadata": {},
   "outputs": [],
   "source": [
    "A = torch.Tensor(A)\n",
    "B = torch.Tensor(B)\n",
    "target = torch.Tensor(target)"
   ]
  },
  {
   "cell_type": "code",
   "execution_count": 13,
   "metadata": {},
   "outputs": [],
   "source": [
    "train_tensor = torch.utils.data.TensorDataset(A,B,target)\n",
    "train_dataset, test_dataset = torch.utils.data.random_split(train_tensor, [9000, 1000])"
   ]
  },
  {
   "cell_type": "code",
   "execution_count": 14,
   "metadata": {},
   "outputs": [],
   "source": [
    "train_loader = torch.utils.data.DataLoader(train_dataset, batch_size=32, shuffle=True)\n",
    "test_loader = torch.utils.data.DataLoader(test_dataset, batch_size=32, shuffle=True)"
   ]
  },
  {
   "cell_type": "code",
   "execution_count": 15,
   "metadata": {},
   "outputs": [],
   "source": [
    "criterion = nn.BCELoss() \n",
    "optimizer = optim.SGD(net.parameters(), lr=0.001, momentum=0.9)\n",
    "#optimizer = optim.Adam(net.parameters(), lr=1e-3, weight_decay=1e-5)"
   ]
  },
  {
   "cell_type": "code",
   "execution_count": 16,
   "metadata": {},
   "outputs": [
    {
     "name": "stderr",
     "output_type": "stream",
     "text": [
      "C:\\Users\\Takumi Inui\\Anaconda\\lib\\site-packages\\torch\\nn\\functional.py:1625: UserWarning: nn.functional.sigmoid is deprecated. Use torch.sigmoid instead.\n",
      "  warnings.warn(\"nn.functional.sigmoid is deprecated. Use torch.sigmoid instead.\")\n",
      "C:\\Users\\Takumi Inui\\Anaconda\\lib\\site-packages\\torch\\nn\\modules\\loss.py:529: UserWarning: Using a target size (torch.Size([32])) that is different to the input size (torch.Size([32, 1])) is deprecated. Please ensure they have the same size.\n",
      "  return F.binary_cross_entropy(input, target, weight=self.weight, reduction=self.reduction)\n",
      "C:\\Users\\Takumi Inui\\Anaconda\\lib\\site-packages\\torch\\nn\\modules\\loss.py:529: UserWarning: Using a target size (torch.Size([8])) that is different to the input size (torch.Size([8, 1])) is deprecated. Please ensure they have the same size.\n",
      "  return F.binary_cross_entropy(input, target, weight=self.weight, reduction=self.reduction)\n"
     ]
    },
    {
     "name": "stdout",
     "output_type": "stream",
     "text": [
      "194.27072232961655\n",
      "193.50788915157318\n",
      "192.95556277036667\n",
      "191.93902665376663\n",
      "189.87885981798172\n",
      "186.09910702705383\n",
      "178.0148402452469\n",
      "160.68422615528107\n",
      "134.71387448906898\n",
      "114.43247525393963\n",
      "103.1713736653328\n",
      "96.57614215835929\n",
      "92.72435890883207\n",
      "89.51819478720427\n",
      "86.71247202903032\n",
      "84.3325884193182\n",
      "81.73652877658606\n",
      "79.61334620416164\n",
      "77.60657557100058\n",
      "76.77976509183645\n",
      "73.93292443454266\n",
      "71.82342028990388\n",
      "70.57596333324909\n",
      "68.13880552351475\n",
      "65.69090553745627\n",
      "63.80363579839468\n",
      "62.94597828015685\n",
      "61.212806917726994\n",
      "59.32810387015343\n",
      "58.62578305602074\n",
      "57.575908333063126\n",
      "56.62351609393954\n",
      "55.169795759022236\n",
      "53.826446164399385\n",
      "52.26783712953329\n",
      "52.31801034882665\n",
      "51.51084143295884\n",
      "49.58783462271094\n",
      "48.842662669718266\n",
      "47.686126723885536\n",
      "46.62941251322627\n",
      "45.429741360247135\n",
      "44.23699692264199\n",
      "42.48587587289512\n",
      "42.00279350532219\n",
      "40.757057439535856\n",
      "39.50053837150335\n",
      "37.70166852325201\n",
      "36.63966316357255\n",
      "35.202766455709934\n",
      "34.26619231980294\n",
      "31.878463247790933\n",
      "31.834991484880447\n",
      "29.46985045168549\n",
      "27.417455441318452\n",
      "26.28907339926809\n",
      "25.498408124782145\n",
      "23.909819435793906\n",
      "22.600925432052463\n",
      "22.21123426966369\n",
      "20.749738339567557\n",
      "20.207803012337536\n",
      "19.86074115196243\n",
      "18.066460714209825\n",
      "17.153005231171846\n",
      "15.517132085282356\n",
      "17.27075310028158\n",
      "14.843695935094729\n",
      "13.764240300282836\n",
      "13.289079665672034\n",
      "12.418879723525606\n",
      "11.600525102112442\n",
      "12.561135993673815\n",
      "10.602950434782542\n",
      "10.598582921666093\n",
      "11.030537169543095\n",
      "10.62407405662816\n",
      "10.205947774462402\n",
      "9.282520356122404\n",
      "9.064274920616299\n",
      "8.200474420620594\n",
      "7.565301826223731\n",
      "7.029445159074385\n",
      "6.59294205455808\n",
      "7.15481592604192\n",
      "6.283518981946145\n",
      "5.291595815739129\n",
      "4.985530395177193\n",
      "5.225095666188281\n",
      "4.844272018567381\n",
      "4.793802784552099\n",
      "5.110695581999607\n",
      "5.293360664421925\n",
      "4.286648791196058\n",
      "3.791427919495618\n",
      "3.8725336055649677\n",
      "3.6585782522452064\n",
      "3.1756847792858025\n",
      "3.4737021891924087\n",
      "3.1594235569646116\n",
      "\n",
      "学習が終了しました。\n"
     ]
    }
   ],
   "source": [
    "for epoch in range(100):\n",
    "    total_loss = 0.0\n",
    "    for i,data in enumerate(train_loader):\n",
    "        inputA,inputB, labels = data\n",
    "        optimizer.zero_grad()  \n",
    "        outputs = net(inputA,inputB)\n",
    "        loss = criterion(outputs, labels)\n",
    "        loss.backward()\n",
    "        optimizer.step()\n",
    "        total_loss += loss.item()\n",
    "    print(total_loss)\n",
    "print('\\n学習が終了しました。')"
   ]
  },
  {
   "cell_type": "code",
   "execution_count": 17,
   "metadata": {},
   "outputs": [],
   "source": [
    "correct = 0.0  # 正答数を表す\n",
    "total = 0.0  # テストデータの総数を表す\n",
    "link = 0.0"
   ]
  },
  {
   "cell_type": "code",
   "execution_count": 18,
   "metadata": {},
   "outputs": [],
   "source": [
    "y_label = np.empty(0)\n",
    "y_predict = np.empty(0)"
   ]
  },
  {
   "cell_type": "code",
   "execution_count": 19,
   "metadata": {},
   "outputs": [],
   "source": [
    "for data in test_loader:\n",
    "    inputA, inputB, labels = data\n",
    "    outputs = net(inputA,inputB)\n",
    "    _, predicted = torch.max(outputs.data, 0)\n",
    "    total += labels.size(0)  # テストデータの総数を計算\n",
    "    correct += (predicted == labels).sum().item()  # 正答数を計算\n",
    "    link += sum(labels.numpy())\n",
    "    y_label = np.concatenate([y_label, np.array(labels.numpy())])\n",
    "    y_predict = np.concatenate([y_predict, np.array(net(inputA,inputB).detach().numpy()).ravel()])"
   ]
  },
  {
   "cell_type": "code",
   "execution_count": 20,
   "metadata": {},
   "outputs": [],
   "source": [
    "pred = []\n",
    "for i in y_predict:\n",
    "    if i >= 0.5:\n",
    "        pred.append(1)\n",
    "    else:\n",
    "        pred.append(0)"
   ]
  },
  {
   "cell_type": "code",
   "execution_count": 21,
   "metadata": {},
   "outputs": [
    {
     "data": {
      "text/plain": [
       "898"
      ]
     },
     "execution_count": 21,
     "metadata": {},
     "output_type": "execute_result"
    }
   ],
   "source": [
    "count = 0\n",
    "for i in range(1000):\n",
    "    if y_label[i] == pred[i]:\n",
    "        count += 1\n",
    "count"
   ]
  },
  {
   "cell_type": "code",
   "execution_count": 22,
   "metadata": {},
   "outputs": [
    {
     "name": "stdout",
     "output_type": "stream",
     "text": [
      "テストデータに対する正答率： 898 / 1000 = 0.898000\n",
      "\n",
      "テストデータに含まれるリンクありの割合： 565 / 1000 = 0.565000\n",
      "\n",
      "テストデータに含まれるリンクなしの割合： 435 / 1000 = 0.435000\n",
      "\n",
      "ラベル：0 1 1 1 1 0 1 1 \n",
      "　予測：0 1 1 1 1 0 1 1 \n",
      "\n",
      "ラベル：0 0 1 1 1 0 1 0 \n",
      "　予測：0 0 1 1 1 0 1 0 \n",
      "\n",
      "ラベル：1 1 0 1 0 0 1 0 \n",
      "　予測：1 1 0 1 0 0 1 1 \n",
      "\n",
      "ラベル：0 0 1 1 0 1 0 0 \n",
      "　予測：0 0 1 1 0 1 0 0 \n",
      "\n",
      "ラベル：0 1 0 1 0 1 1 1 \n",
      "　予測：0 1 0 1 0 1 1 1 \n",
      "\n",
      "ラベル：1 1 1 0 1 0 1 1 \n",
      "　予測：1 1 1 0 0 0 1 1 \n",
      "\n",
      "ラベル：0 1 0 0 1 1 1 0 \n",
      "　予測：1 1 0 0 1 1 1 0 \n",
      "\n",
      "ラベル：0 0 1 1 1 0 1 1 \n",
      "　予測：0 1 0 0 1 0 1 1 \n",
      "\n",
      "ラベル：0 0 1 1 1 1 1 1 \n",
      "　予測：0 0 1 1 1 1 1 1 \n",
      "\n",
      "ラベル：1 0 0 0 0 0 1 0 \n",
      "　予測：1 0 0 0 0 0 1 0 \n",
      "\n"
     ]
    }
   ],
   "source": [
    "print('テストデータに対する正答率： %d / %d = %f' % (count, total, count / total) + '\\n')\n",
    "print('テストデータに含まれるリンクありの割合： %d / %d = %f' % (link, total, link / total) + '\\n')\n",
    "print('テストデータに含まれるリンクなしの割合： %d / %d = %f' % (total - link, total, (total- link) / total) + '\\n')\n",
    "\n",
    "for i in range(10):  # テストデータの一部を10行に分けて可視化\n",
    "    print(\"ラベル：\" + \"\".join('%d ' % y_label[i*10 + j] for j in range(10)))  # ラベルの値を表示\n",
    "    print(\"　予測：\" + \"\".join('%d ' % pred[i*10 + j] for j in range(10)) + \"\\n\")  # 予測結果を表示"
   ]
  },
  {
   "cell_type": "code",
   "execution_count": 23,
   "metadata": {},
   "outputs": [],
   "source": [
    "from sklearn.metrics import roc_auc_score"
   ]
  },
  {
   "cell_type": "code",
   "execution_count": 24,
   "metadata": {},
   "outputs": [
    {
     "data": {
      "text/plain": [
       "0.9625389075373818"
      ]
     },
     "execution_count": 24,
     "metadata": {},
     "output_type": "execute_result"
    }
   ],
   "source": [
    "roc_auc_score(y_label, y_predict)"
   ]
  }
 ],
 "metadata": {
  "kernelspec": {
   "display_name": "Python 3",
   "language": "python",
   "name": "python3"
  },
  "language_info": {
   "codemirror_mode": {
    "name": "ipython",
    "version": 3
   },
   "file_extension": ".py",
   "mimetype": "text/x-python",
   "name": "python",
   "nbconvert_exporter": "python",
   "pygments_lexer": "ipython3",
   "version": "3.7.3"
  }
 },
 "nbformat": 4,
 "nbformat_minor": 2
}
