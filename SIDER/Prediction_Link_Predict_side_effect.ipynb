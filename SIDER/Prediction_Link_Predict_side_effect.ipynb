{
 "cells": [
  {
   "cell_type": "markdown",
   "metadata": {},
   "source": [
    "# リンク予測( Indication)\n",
    "## ECFP -> ニューラルネットワーク"
   ]
  },
  {
   "cell_type": "code",
   "execution_count": 1,
   "metadata": {},
   "outputs": [],
   "source": [
    "import pandas as pd\n",
    "import numpy as np\n",
    "\n",
    "from rdkit import Chem\n",
    "from rdkit.Chem import AllChem, Draw"
   ]
  },
  {
   "cell_type": "code",
   "execution_count": 2,
   "metadata": {},
   "outputs": [],
   "source": [
    "import torch\n",
    "import torch.utils.data\n",
    "from torchvision import datasets\n",
    "import torch.nn as nn\n",
    "import torch.nn.functional as F\n",
    "import torch.optim as optim  # 最適化アルゴリズム実装のためのライブラリ"
   ]
  },
  {
   "cell_type": "code",
   "execution_count": 3,
   "metadata": {},
   "outputs": [],
   "source": [
    "df = pd.read_pickle(\"data_side_effect.pkl\")"
   ]
  },
  {
   "cell_type": "code",
   "execution_count": 4,
   "metadata": {},
   "outputs": [
    {
     "data": {
      "text/html": [
       "<div>\n",
       "<style scoped>\n",
       "    .dataframe tbody tr th:only-of-type {\n",
       "        vertical-align: middle;\n",
       "    }\n",
       "\n",
       "    .dataframe tbody tr th {\n",
       "        vertical-align: top;\n",
       "    }\n",
       "\n",
       "    .dataframe thead th {\n",
       "        text-align: right;\n",
       "    }\n",
       "</style>\n",
       "<table border=\"1\" class=\"dataframe\">\n",
       "  <thead>\n",
       "    <tr style=\"text-align: right;\">\n",
       "      <th></th>\n",
       "      <th>smiles1</th>\n",
       "      <th>smiles2</th>\n",
       "      <th>side_effect</th>\n",
       "    </tr>\n",
       "  </thead>\n",
       "  <tbody>\n",
       "    <tr>\n",
       "      <th>0</th>\n",
       "      <td>[0, 0, 0, 0, 0, 0, 0, 0, 0, 0, 0, 0, 0, 0, 0, ...</td>\n",
       "      <td>[0, 0, 0, 0, 0, 0, 0, 0, 0, 0, 0, 0, 0, 0, 0, ...</td>\n",
       "      <td>0.039056</td>\n",
       "    </tr>\n",
       "    <tr>\n",
       "      <th>1</th>\n",
       "      <td>[0, 0, 0, 0, 0, 0, 0, 0, 0, 0, 0, 0, 0, 0, 0, ...</td>\n",
       "      <td>[0, 1, 0, 0, 0, 0, 0, 0, 0, 0, 0, 0, 1, 0, 0, ...</td>\n",
       "      <td>0.009857</td>\n",
       "    </tr>\n",
       "    <tr>\n",
       "      <th>2</th>\n",
       "      <td>[0, 0, 0, 0, 0, 0, 0, 0, 0, 0, 0, 0, 0, 0, 0, ...</td>\n",
       "      <td>[0, 0, 0, 0, 0, 0, 0, 0, 0, 0, 0, 0, 0, 0, 0, ...</td>\n",
       "      <td>0.032003</td>\n",
       "    </tr>\n",
       "    <tr>\n",
       "      <th>3</th>\n",
       "      <td>[0, 0, 0, 0, 0, 0, 0, 0, 0, 0, 0, 0, 0, 0, 0, ...</td>\n",
       "      <td>[0, 0, 0, 0, 0, 0, 0, 0, 0, 0, 0, 0, 0, 0, 0, ...</td>\n",
       "      <td>0.023612</td>\n",
       "    </tr>\n",
       "    <tr>\n",
       "      <th>5</th>\n",
       "      <td>[0, 0, 0, 0, 0, 0, 0, 0, 0, 0, 0, 0, 0, 0, 0, ...</td>\n",
       "      <td>[0, 0, 0, 0, 0, 0, 0, 0, 0, 0, 0, 0, 0, 1, 0, ...</td>\n",
       "      <td>0.024511</td>\n",
       "    </tr>\n",
       "  </tbody>\n",
       "</table>\n",
       "</div>"
      ],
      "text/plain": [
       "                                             smiles1  \\\n",
       "0  [0, 0, 0, 0, 0, 0, 0, 0, 0, 0, 0, 0, 0, 0, 0, ...   \n",
       "1  [0, 0, 0, 0, 0, 0, 0, 0, 0, 0, 0, 0, 0, 0, 0, ...   \n",
       "2  [0, 0, 0, 0, 0, 0, 0, 0, 0, 0, 0, 0, 0, 0, 0, ...   \n",
       "3  [0, 0, 0, 0, 0, 0, 0, 0, 0, 0, 0, 0, 0, 0, 0, ...   \n",
       "5  [0, 0, 0, 0, 0, 0, 0, 0, 0, 0, 0, 0, 0, 0, 0, ...   \n",
       "\n",
       "                                             smiles2  side_effect  \n",
       "0  [0, 0, 0, 0, 0, 0, 0, 0, 0, 0, 0, 0, 0, 0, 0, ...     0.039056  \n",
       "1  [0, 1, 0, 0, 0, 0, 0, 0, 0, 0, 0, 0, 1, 0, 0, ...     0.009857  \n",
       "2  [0, 0, 0, 0, 0, 0, 0, 0, 0, 0, 0, 0, 0, 0, 0, ...     0.032003  \n",
       "3  [0, 0, 0, 0, 0, 0, 0, 0, 0, 0, 0, 0, 0, 0, 0, ...     0.023612  \n",
       "5  [0, 0, 0, 0, 0, 0, 0, 0, 0, 0, 0, 0, 0, 1, 0, ...     0.024511  "
      ]
     },
     "execution_count": 4,
     "metadata": {},
     "output_type": "execute_result"
    }
   ],
   "source": [
    "df.head()"
   ]
  },
  {
   "cell_type": "code",
   "execution_count": 5,
   "metadata": {},
   "outputs": [
    {
     "data": {
      "text/plain": [
       "side_effect    0.034465\n",
       "dtype: float64"
      ]
     },
     "execution_count": 5,
     "metadata": {},
     "output_type": "execute_result"
    }
   ],
   "source": [
    "df.median()"
   ]
  },
  {
   "cell_type": "code",
   "execution_count": 6,
   "metadata": {},
   "outputs": [],
   "source": [
    "def f(x):\n",
    "    ans = 0\n",
    "    if x > 0.03 and x <= 1:\n",
    "        ans = 1\n",
    "    else:\n",
    "        ans = 0\n",
    "    return ans "
   ]
  },
  {
   "cell_type": "code",
   "execution_count": 7,
   "metadata": {},
   "outputs": [],
   "source": [
    "df[\"side_effect\"] = df[\"side_effect\"].map(f)"
   ]
  },
  {
   "cell_type": "code",
   "execution_count": 8,
   "metadata": {},
   "outputs": [],
   "source": [
    "class Net(nn.Module):  # 多層ニューラルネットワークの構築\n",
    "    def __init__(self):\n",
    "        super(Net, self).__init__()\n",
    "        self.share1 = nn.Linear(512,1024)\n",
    "        self.share2 = nn.Linear(1024,512)\n",
    "        self.fc1 = nn.Linear(1024, 128)  # 一つ目の隠れ層のユニット数は512\n",
    "        self.fc2 = nn.Linear(128, 128)  # 二つ目の隠れ層のユニット数は128\n",
    "        self.fc3 = nn.Linear(128, 1)  # 出力層のユニット数は1\n",
    "\n",
    "\n",
    "    def forward(self, x, y):\n",
    "        a = F.relu(self.share1(x))\n",
    "        a = self.share2(a)\n",
    "        b = F.relu(self.share1(y))\n",
    "        b = self.share2(b)\n",
    "        x = torch.cat([a,b], dim=1)\n",
    "        x = F.relu(self.fc1(x))  # 活性化関数にはReLUを使用\n",
    "        x = F.relu(self.fc2(x))  # 活性化関数にはReLUを使用\n",
    "        x = F.sigmoid(self.fc3(x))\n",
    "        return x\n",
    "\n",
    "net = Net()"
   ]
  },
  {
   "cell_type": "code",
   "execution_count": 9,
   "metadata": {},
   "outputs": [],
   "source": [
    "df_sample = df.sample(n=10000)\n",
    "df_sample = df_sample.reset_index(drop=True)"
   ]
  },
  {
   "cell_type": "code",
   "execution_count": 10,
   "metadata": {},
   "outputs": [
    {
     "data": {
      "text/html": [
       "<div>\n",
       "<style scoped>\n",
       "    .dataframe tbody tr th:only-of-type {\n",
       "        vertical-align: middle;\n",
       "    }\n",
       "\n",
       "    .dataframe tbody tr th {\n",
       "        vertical-align: top;\n",
       "    }\n",
       "\n",
       "    .dataframe thead th {\n",
       "        text-align: right;\n",
       "    }\n",
       "</style>\n",
       "<table border=\"1\" class=\"dataframe\">\n",
       "  <thead>\n",
       "    <tr style=\"text-align: right;\">\n",
       "      <th></th>\n",
       "      <th>smiles1</th>\n",
       "      <th>smiles2</th>\n",
       "      <th>side_effect</th>\n",
       "    </tr>\n",
       "  </thead>\n",
       "  <tbody>\n",
       "    <tr>\n",
       "      <th>0</th>\n",
       "      <td>[0, 0, 0, 0, 0, 0, 0, 1, 0, 0, 0, 0, 0, 0, 0, ...</td>\n",
       "      <td>[0, 1, 0, 0, 0, 0, 0, 0, 1, 0, 0, 0, 1, 0, 0, ...</td>\n",
       "      <td>1</td>\n",
       "    </tr>\n",
       "    <tr>\n",
       "      <th>1</th>\n",
       "      <td>[1, 1, 0, 0, 0, 1, 0, 0, 0, 0, 0, 0, 0, 0, 0, ...</td>\n",
       "      <td>[0, 1, 0, 0, 1, 1, 0, 1, 1, 1, 1, 1, 0, 0, 0, ...</td>\n",
       "      <td>1</td>\n",
       "    </tr>\n",
       "    <tr>\n",
       "      <th>2</th>\n",
       "      <td>[0, 1, 0, 0, 0, 0, 0, 0, 0, 0, 0, 0, 0, 0, 0, ...</td>\n",
       "      <td>[0, 0, 0, 0, 1, 0, 0, 0, 0, 0, 0, 0, 0, 0, 0, ...</td>\n",
       "      <td>1</td>\n",
       "    </tr>\n",
       "    <tr>\n",
       "      <th>3</th>\n",
       "      <td>[1, 0, 0, 0, 0, 0, 0, 0, 0, 0, 0, 0, 0, 0, 0, ...</td>\n",
       "      <td>[0, 0, 0, 0, 0, 0, 0, 0, 0, 0, 0, 0, 0, 0, 0, ...</td>\n",
       "      <td>1</td>\n",
       "    </tr>\n",
       "    <tr>\n",
       "      <th>4</th>\n",
       "      <td>[1, 0, 1, 0, 1, 0, 0, 1, 0, 0, 0, 0, 0, 1, 0, ...</td>\n",
       "      <td>[0, 1, 0, 0, 1, 0, 0, 0, 0, 0, 0, 0, 0, 0, 0, ...</td>\n",
       "      <td>1</td>\n",
       "    </tr>\n",
       "  </tbody>\n",
       "</table>\n",
       "</div>"
      ],
      "text/plain": [
       "                                             smiles1  \\\n",
       "0  [0, 0, 0, 0, 0, 0, 0, 1, 0, 0, 0, 0, 0, 0, 0, ...   \n",
       "1  [1, 1, 0, 0, 0, 1, 0, 0, 0, 0, 0, 0, 0, 0, 0, ...   \n",
       "2  [0, 1, 0, 0, 0, 0, 0, 0, 0, 0, 0, 0, 0, 0, 0, ...   \n",
       "3  [1, 0, 0, 0, 0, 0, 0, 0, 0, 0, 0, 0, 0, 0, 0, ...   \n",
       "4  [1, 0, 1, 0, 1, 0, 0, 1, 0, 0, 0, 0, 0, 1, 0, ...   \n",
       "\n",
       "                                             smiles2  side_effect  \n",
       "0  [0, 1, 0, 0, 0, 0, 0, 0, 1, 0, 0, 0, 1, 0, 0, ...            1  \n",
       "1  [0, 1, 0, 0, 1, 1, 0, 1, 1, 1, 1, 1, 0, 0, 0, ...            1  \n",
       "2  [0, 0, 0, 0, 1, 0, 0, 0, 0, 0, 0, 0, 0, 0, 0, ...            1  \n",
       "3  [0, 0, 0, 0, 0, 0, 0, 0, 0, 0, 0, 0, 0, 0, 0, ...            1  \n",
       "4  [0, 1, 0, 0, 1, 0, 0, 0, 0, 0, 0, 0, 0, 0, 0, ...            1  "
      ]
     },
     "execution_count": 10,
     "metadata": {},
     "output_type": "execute_result"
    }
   ],
   "source": [
    "df_sample.head()"
   ]
  },
  {
   "cell_type": "code",
   "execution_count": 11,
   "metadata": {},
   "outputs": [],
   "source": [
    "A = df_sample[\"smiles1\"]\n",
    "B = df_sample[\"smiles2\"]\n",
    "target = df_sample[\"side_effect\"]"
   ]
  },
  {
   "cell_type": "code",
   "execution_count": 12,
   "metadata": {},
   "outputs": [],
   "source": [
    "A = torch.Tensor(A)\n",
    "B = torch.Tensor(B)\n",
    "target = torch.Tensor(target)"
   ]
  },
  {
   "cell_type": "code",
   "execution_count": 13,
   "metadata": {},
   "outputs": [],
   "source": [
    "train_tensor = torch.utils.data.TensorDataset(A,B,target)\n",
    "train_dataset, test_dataset = torch.utils.data.random_split(train_tensor, [9000, 1000])"
   ]
  },
  {
   "cell_type": "code",
   "execution_count": 14,
   "metadata": {},
   "outputs": [],
   "source": [
    "train_loader = torch.utils.data.DataLoader(train_dataset, batch_size=32, shuffle=True)\n",
    "test_loader = torch.utils.data.DataLoader(test_dataset, batch_size=32, shuffle=True)"
   ]
  },
  {
   "cell_type": "code",
   "execution_count": 15,
   "metadata": {},
   "outputs": [],
   "source": [
    "criterion = nn.BCELoss() \n",
    "optimizer = optim.SGD(net.parameters(), lr=0.001, momentum=0.9)\n",
    "#optimizer = optim.Adam(net.parameters(), lr=1e-3, weight_decay=1e-5)"
   ]
  },
  {
   "cell_type": "code",
   "execution_count": 16,
   "metadata": {},
   "outputs": [
    {
     "name": "stderr",
     "output_type": "stream",
     "text": [
      "C:\\Users\\Takumi Inui\\Anaconda\\lib\\site-packages\\torch\\nn\\functional.py:1625: UserWarning: nn.functional.sigmoid is deprecated. Use torch.sigmoid instead.\n",
      "  warnings.warn(\"nn.functional.sigmoid is deprecated. Use torch.sigmoid instead.\")\n",
      "C:\\Users\\Takumi Inui\\Anaconda\\lib\\site-packages\\torch\\nn\\modules\\loss.py:529: UserWarning: Using a target size (torch.Size([32])) that is different to the input size (torch.Size([32, 1])) is deprecated. Please ensure they have the same size.\n",
      "  return F.binary_cross_entropy(input, target, weight=self.weight, reduction=self.reduction)\n",
      "C:\\Users\\Takumi Inui\\Anaconda\\lib\\site-packages\\torch\\nn\\modules\\loss.py:529: UserWarning: Using a target size (torch.Size([8])) that is different to the input size (torch.Size([8, 1])) is deprecated. Please ensure they have the same size.\n",
      "  return F.binary_cross_entropy(input, target, weight=self.weight, reduction=self.reduction)\n"
     ]
    },
    {
     "name": "stdout",
     "output_type": "stream",
     "text": [
      "195.3426150083542\n",
      "193.6116989850998\n",
      "193.37617582082748\n",
      "193.38556998968124\n",
      "193.25361043214798\n",
      "193.1447623372078\n",
      "193.06200051307678\n",
      "193.07367104291916\n",
      "192.98464858531952\n",
      "192.78636318445206\n",
      "192.72203022241592\n",
      "192.47545689344406\n",
      "192.2884345650673\n",
      "191.99032098054886\n",
      "191.4787793159485\n",
      "190.9117791056633\n",
      "190.00746661424637\n",
      "188.81767636537552\n",
      "187.02255433797836\n",
      "184.5559812784195\n",
      "181.29213535785675\n",
      "177.46491849422455\n",
      "172.17524245381355\n",
      "166.3661023080349\n",
      "160.6258963048458\n",
      "153.44904482364655\n",
      "147.9443572461605\n",
      "141.12190729379654\n",
      "134.82055795192719\n",
      "129.47833833098412\n",
      "126.24787949025631\n",
      "122.49762415885925\n",
      "119.49750055372715\n",
      "117.31455132365227\n",
      "114.46781253814697\n",
      "112.45002466440201\n",
      "112.57549278438091\n",
      "108.71586526930332\n",
      "110.0341265052557\n",
      "107.48325683176517\n",
      "106.6518672555685\n",
      "104.67224828898907\n",
      "103.86283667385578\n",
      "104.84498839080334\n",
      "102.4812478646636\n",
      "102.03561854362488\n",
      "101.91147230565548\n",
      "100.97072997689247\n",
      "99.84156838059425\n",
      "99.16636177897453\n",
      "98.03230719268322\n",
      "97.60158112645149\n",
      "96.50024175643921\n",
      "98.43519309163094\n",
      "95.94421852380037\n",
      "95.10669757425785\n",
      "95.12375177443027\n",
      "93.87261146306992\n",
      "92.6364021897316\n",
      "92.77082960307598\n",
      "92.21992635726929\n",
      "91.74491295218468\n",
      "91.43608390539885\n",
      "91.11362537741661\n",
      "90.54060424864292\n",
      "89.41790486872196\n",
      "88.63531284034252\n",
      "88.60295921564102\n",
      "86.84785117208958\n",
      "86.20299232006073\n",
      "86.06897116452456\n",
      "85.60062843561172\n",
      "84.81696879118681\n",
      "84.41804913431406\n",
      "83.74567168951035\n",
      "83.55054648220539\n",
      "83.87025210261345\n",
      "80.76397174596786\n",
      "79.81834331899881\n",
      "80.15278694033623\n",
      "79.83988603949547\n",
      "77.64097736775875\n",
      "77.6129559725523\n",
      "76.62896268814802\n",
      "76.15866579115391\n",
      "75.13201532512903\n",
      "75.4575995951891\n",
      "73.73671276122332\n",
      "73.43244631588459\n",
      "72.16379319131374\n",
      "69.91126112639904\n",
      "69.64410711079836\n",
      "68.07498513162136\n",
      "67.31034855544567\n",
      "68.095488935709\n",
      "66.63754229992628\n",
      "66.54845815896988\n",
      "64.53170231729746\n",
      "62.66901009529829\n",
      "63.67713749408722\n",
      "\n",
      "学習が終了しました。\n"
     ]
    }
   ],
   "source": [
    "for epoch in range(100):\n",
    "    total_loss = 0.0\n",
    "    for i,data in enumerate(train_loader):\n",
    "        inputA,inputB, labels = data\n",
    "        optimizer.zero_grad()  \n",
    "        outputs = net(inputA,inputB)\n",
    "        loss = criterion(outputs, labels)\n",
    "        loss.backward()\n",
    "        optimizer.step()\n",
    "        total_loss += loss.item()\n",
    "    print(total_loss)\n",
    "print('\\n学習が終了しました。')"
   ]
  },
  {
   "cell_type": "code",
   "execution_count": 17,
   "metadata": {},
   "outputs": [],
   "source": [
    "correct = 0.0  # 正答数を表す\n",
    "total = 0.0  # テストデータの総数を表す\n",
    "link = 0.0"
   ]
  },
  {
   "cell_type": "code",
   "execution_count": 18,
   "metadata": {},
   "outputs": [],
   "source": [
    "y_label = np.empty(0)\n",
    "y_predict = np.empty(0)"
   ]
  },
  {
   "cell_type": "code",
   "execution_count": 19,
   "metadata": {},
   "outputs": [],
   "source": [
    "for data in test_loader:\n",
    "    inputA, inputB, labels = data\n",
    "    outputs = net(inputA,inputB)\n",
    "    _, predicted = torch.max(outputs.data, 0)\n",
    "    total += labels.size(0)  # テストデータの総数を計算\n",
    "    correct += (predicted == labels).sum().item()  # 正答数を計算\n",
    "    link += sum(labels.numpy())\n",
    "    y_label = np.concatenate([y_label, np.array(labels.numpy())])\n",
    "    y_predict = np.concatenate([y_predict, np.array(net(inputA,inputB).detach().numpy()).ravel()])"
   ]
  },
  {
   "cell_type": "code",
   "execution_count": 20,
   "metadata": {},
   "outputs": [],
   "source": [
    "pred = []\n",
    "for i in y_predict:\n",
    "    if i >= 0.5:\n",
    "        pred.append(1)\n",
    "    else:\n",
    "        pred.append(0)"
   ]
  },
  {
   "cell_type": "code",
   "execution_count": 21,
   "metadata": {},
   "outputs": [
    {
     "data": {
      "text/plain": [
       "755"
      ]
     },
     "execution_count": 21,
     "metadata": {},
     "output_type": "execute_result"
    }
   ],
   "source": [
    "count = 0\n",
    "for i in range(1000):\n",
    "    if y_label[i] == pred[i]:\n",
    "        count += 1\n",
    "count"
   ]
  },
  {
   "cell_type": "code",
   "execution_count": 22,
   "metadata": {},
   "outputs": [
    {
     "name": "stdout",
     "output_type": "stream",
     "text": [
      "テストデータに対する正答率： 755 / 1000 = 0.755000\n",
      "\n",
      "テストデータに含まれるリンクありの割合： 558 / 1000 = 0.558000\n",
      "\n",
      "テストデータに含まれるリンクなしの割合： 442 / 1000 = 0.442000\n",
      "\n",
      "ラベル：1 1 0 1 1 1 1 1 \n",
      "　予測：0 1 0 0 1 1 1 1 \n",
      "\n",
      "ラベル：1 0 1 1 1 0 1 1 \n",
      "　予測：1 0 1 1 0 0 0 1 \n",
      "\n",
      "ラベル：1 1 1 1 1 0 1 1 \n",
      "　予測：1 0 1 1 0 0 0 1 \n",
      "\n",
      "ラベル：0 0 0 0 1 1 0 0 \n",
      "　予測：0 0 0 0 0 1 1 0 \n",
      "\n",
      "ラベル：1 1 1 0 1 1 0 1 \n",
      "　予測：0 1 1 1 1 1 0 1 \n",
      "\n",
      "ラベル：1 0 1 0 0 0 1 1 \n",
      "　予測：1 1 1 0 1 0 0 1 \n",
      "\n",
      "ラベル：1 1 1 1 1 1 0 1 \n",
      "　予測：1 0 1 0 1 1 1 1 \n",
      "\n",
      "ラベル：1 1 0 1 1 0 1 1 \n",
      "　予測：1 1 0 1 1 1 1 0 \n",
      "\n",
      "ラベル：0 0 1 1 1 1 1 0 \n",
      "　予測：0 1 1 1 1 1 1 0 \n",
      "\n",
      "ラベル：0 1 0 1 1 0 0 0 \n",
      "　予測：0 0 1 0 1 0 0 0 \n",
      "\n"
     ]
    }
   ],
   "source": [
    "print('テストデータに対する正答率： %d / %d = %f' % (count, total, count / total) + '\\n')\n",
    "print('テストデータに含まれるリンクありの割合： %d / %d = %f' % (link, total, link / total) + '\\n')\n",
    "print('テストデータに含まれるリンクなしの割合： %d / %d = %f' % (total - link, total, (total- link) / total) + '\\n')\n",
    "\n",
    "for i in range(10):  # テストデータの一部を10行に分けて可視化\n",
    "    print(\"ラベル：\" + \"\".join('%d ' % y_label[i*8 + j] for j in range(8)))  # ラベルの値を表示\n",
    "    print(\"　予測：\" + \"\".join('%d ' % pred[i*8 + j] for j in range(8)) + \"\\n\")  # 予測結果を表示"
   ]
  },
  {
   "cell_type": "code",
   "execution_count": 23,
   "metadata": {},
   "outputs": [],
   "source": [
    "from sklearn.metrics import roc_auc_score"
   ]
  },
  {
   "cell_type": "code",
   "execution_count": 24,
   "metadata": {},
   "outputs": [
    {
     "data": {
      "text/plain": [
       "0.8256134546457126"
      ]
     },
     "execution_count": 24,
     "metadata": {},
     "output_type": "execute_result"
    }
   ],
   "source": [
    "roc_auc_score(y_label, y_predict)"
   ]
  },
  {
   "cell_type": "code",
   "execution_count": null,
   "metadata": {},
   "outputs": [],
   "source": []
  }
 ],
 "metadata": {
  "kernelspec": {
   "display_name": "Python 3",
   "language": "python",
   "name": "python3"
  },
  "language_info": {
   "codemirror_mode": {
    "name": "ipython",
    "version": 3
   },
   "file_extension": ".py",
   "mimetype": "text/x-python",
   "name": "python",
   "nbconvert_exporter": "python",
   "pygments_lexer": "ipython3",
   "version": "3.7.3"
  }
 },
 "nbformat": 4,
 "nbformat_minor": 2
}
